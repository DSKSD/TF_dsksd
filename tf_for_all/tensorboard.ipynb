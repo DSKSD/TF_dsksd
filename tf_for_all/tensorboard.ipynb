{
 "cells": [
  {
   "cell_type": "code",
   "execution_count": 1,
   "metadata": {
    "collapsed": true
   },
   "outputs": [],
   "source": [
    "import tensorflow as tf\n",
    "import numpy as np"
   ]
  },
  {
   "cell_type": "code",
   "execution_count": 2,
   "metadata": {
    "collapsed": true
   },
   "outputs": [],
   "source": [
    "xy = np.loadtxt('07train.txt', unpack=True)\n",
    "x_data = np.transpose(xy[0:-1])\n",
    "y_data = np.reshape(xy[-1], (4, 1))"
   ]
  },
  {
   "cell_type": "code",
   "execution_count": 3,
   "metadata": {
    "collapsed": false
   },
   "outputs": [],
   "source": [
    "X = tf.placeholder(tf.float32, name='X-input')\n",
    "Y = tf.placeholder(tf.float32, name='Y-input')"
   ]
  },
  {
   "cell_type": "code",
   "execution_count": 4,
   "metadata": {
    "collapsed": true
   },
   "outputs": [],
   "source": [
    "W1 = tf.Variable(tf.random_uniform([2,2],-1.0,1.0), name=\"Weight1\")\n",
    "W2 = tf.Variable(tf.random_uniform([2,1],-1.0,1.0), name=\"Weight2\")\n",
    "b1 = tf.Variable(tf.zeros([2]),name=\"Bias1\")\n",
    "b2 = tf.Variable(tf.zeros([1]),name=\"Bias2\")"
   ]
  },
  {
   "cell_type": "code",
   "execution_count": 5,
   "metadata": {
    "collapsed": true
   },
   "outputs": [],
   "source": [
    "with tf.name_scope(\"layer2\") as scope:\n",
    "    L2 = tf.sigmoid(tf.matmul(X,W1)+b1)\n",
    "\n",
    "with tf.name_scope(\"layer3\") as scope:\n",
    "    hypothesis = tf.sigmoid(tf.matmul(L2,W2)+b2)\n",
    "\n",
    "with tf.name_scope('cost') as scope:\n",
    "    cost = -tf.reduce_mean(Y * tf.log(hypothesis) + (1-Y) * tf.log(1 - hypothesis))\n",
    "    cost_summ = tf.summary.scalar(\"cost\", cost)\n",
    "\n",
    "with tf.name_scope('train') as scope:\n",
    "    a = tf.Variable(0.1)\n",
    "    optimizer = tf.train.GradientDescentOptimizer(a)\n",
    "    train = optimizer.minimize(cost)"
   ]
  },
  {
   "cell_type": "code",
   "execution_count": 7,
   "metadata": {
    "collapsed": false
   },
   "outputs": [
    {
     "name": "stdout",
     "output_type": "stream",
     "text": [
      "0 0.70071 [[-0.03744227 -0.60465336]\n",
      " [-0.07429841  0.21340059]] [[-0.78472954]\n",
      " [ 0.28232166]]\n",
      "2000 0.692819 [[-0.16114879 -0.70349944]\n",
      " [-0.05581751  0.28314903]] [[-0.71390462]\n",
      " [ 0.38347277]]\n",
      "4000 0.68964 [[-0.31010604 -1.08736289]\n",
      " [-0.0412275   0.60157835]] [[-0.77334076]\n",
      " [ 0.67711258]]\n",
      "6000 0.488089 [[-1.32736635 -3.72666049]\n",
      " [ 1.27818322  3.2456882 ]] [[-1.94344664]\n",
      " [ 3.61104465]]\n",
      "8000 0.0682741 [[-4.46936035 -5.44504166]\n",
      " [ 4.7478075   5.25654888]] [[-6.57051039]\n",
      " [ 7.24771786]]\n",
      "10000 0.0297349 [[-5.24577522 -5.94748497]\n",
      " [ 5.52329683  5.77215481]] [[-8.16605568]\n",
      " [ 8.70987892]]\n",
      "12000 0.0186235 [[-5.62398005 -6.21721649]\n",
      " [ 5.89982605  6.03885841]] [[-9.04798794]\n",
      " [ 9.55832481]]\n",
      "14000 0.0134736 [[-5.86655474 -6.39788628]\n",
      " [ 6.14115906  6.21534491]] [[ -9.65560246]\n",
      " [ 10.15275383]]\n",
      "16000 0.0105258 [[-6.04249382 -6.53235674]\n",
      " [ 6.31619883  6.34597826]] [[-10.11862755]\n",
      " [ 10.60941219]]\n",
      "18000 0.00862353 [[-6.17933416 -6.63881063]\n",
      " [ 6.45237207  6.44908381]] [[-10.49248791]\n",
      " [ 10.97983932]]\n",
      "[array([[ 0.00705879],\n",
      "       [ 0.99359411],\n",
      "       [ 0.99040002],\n",
      "       [ 0.00601539]], dtype=float32), array([[ 0.],\n",
      "       [ 1.],\n",
      "       [ 1.],\n",
      "       [ 0.]], dtype=float32), array([[ True],\n",
      "       [ True],\n",
      "       [ True],\n",
      "       [ True]], dtype=bool)]\n",
      "accuracy 1.0\n"
     ]
    }
   ],
   "source": [
    "W1_hist = tf.summary.histogram(\"Weights1\", W1)\n",
    "W2_hist = tf.summary.histogram(\"Weights2\", W2)\n",
    "\n",
    "b1_hist = tf.summary.histogram(\"biases1\", b1)\n",
    "b2_hist = tf.summary.histogram(\"biases2\", b2)\n",
    "\n",
    "y_hist = tf.summary.histogram(\"y\", Y)\n",
    "\n",
    "init = tf.global_variables_initializer()\n",
    "\n",
    "with tf.Session() as sess:\n",
    "    sess.run(init)\n",
    "   # tf.train.write_graph(sess.graph, './logs/xor_logs', 'graph.pbtxt')\n",
    "    merged = tf.summary.merge_all()\n",
    "    writer = tf.summary.FileWriter(\"./logs/xor_logs\", sess.graph)\n",
    "\n",
    "    for step in range(20000):\n",
    "        sess.run(train, feed_dict={X: x_data, Y: y_data})\n",
    "        if step % 2000 == 0:\n",
    "            summary = sess.run(merged, feed_dict={X: x_data, Y: y_data})\n",
    "            writer.add_summary(summary, step)\n",
    "            print(step, sess.run(cost, feed_dict={X: x_data, Y: y_data}), sess.run(W1), sess.run(W2))\n",
    "    \n",
    "    writer.add_graph(sess.graph)\n",
    "    correct_prediction = tf.equal(tf.floor(hypothesis+0.5), Y)\n",
    "\n",
    "    accuracy = tf.reduce_mean(tf.cast(correct_prediction, \"float\"))\n",
    "    print(sess.run([hypothesis, tf.floor(hypothesis+0.5), correct_prediction], feed_dict={X: x_data, Y: y_data}))\n",
    "    print(\"accuracy\", accuracy.eval({X: x_data, Y: y_data}))"
   ]
  },
  {
   "cell_type": "code",
   "execution_count": null,
   "metadata": {
    "collapsed": true
   },
   "outputs": [],
   "source": []
  }
 ],
 "metadata": {
  "kernelspec": {
   "display_name": "Python 3",
   "language": "python",
   "name": "python3"
  },
  "language_info": {
   "codemirror_mode": {
    "name": "ipython",
    "version": 3
   },
   "file_extension": ".py",
   "mimetype": "text/x-python",
   "name": "python",
   "nbconvert_exporter": "python",
   "pygments_lexer": "ipython3",
   "version": "3.5.1"
  }
 },
 "nbformat": 4,
 "nbformat_minor": 0
}
