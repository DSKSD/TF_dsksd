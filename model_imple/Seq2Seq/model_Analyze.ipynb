{
 "cells": [
  {
   "cell_type": "code",
   "execution_count": 1,
   "metadata": {
    "collapsed": false,
    "deletable": true,
    "editable": true
   },
   "outputs": [],
   "source": [
    "import argparse\n",
    "import os\n",
    "import random\n",
    "import sys\n",
    "import time\n",
    "\n",
    "import numpy as np\n",
    "import tensorflow as tf\n",
    "\n",
    "from chatbot import *\n",
    "from model import ChatBotModel\n",
    "import config\n",
    "import data"
   ]
  },
  {
   "cell_type": "code",
   "execution_count": 2,
   "metadata": {
    "collapsed": false,
    "deletable": true,
    "editable": true
   },
   "outputs": [],
   "source": [
    "if not os.path.isdir(config.PROCESSED_PATH):\n",
    "    data.prepare_raw_data()\n",
    "    data.process_data()"
   ]
  },
  {
   "cell_type": "code",
   "execution_count": 3,
   "metadata": {
    "collapsed": true,
    "deletable": true,
    "editable": true
   },
   "outputs": [],
   "source": [
    "data.make_dir(config.CPT_PATH)"
   ]
  },
  {
   "cell_type": "code",
   "execution_count": null,
   "metadata": {
    "collapsed": false,
    "deletable": true,
    "editable": true
   },
   "outputs": [
    {
     "name": "stdout",
     "output_type": "stream",
     "text": [
      "Bucketing conversation number 9999\n",
      "Bucketing conversation number 19999\n",
      "Bucketing conversation number 9999\n",
      "Bucketing conversation number 19999\n",
      "Bucketing conversation number 29999\n",
      "Bucketing conversation number 39999\n",
      "Bucketing conversation number 49999\n",
      "Bucketing conversation number 59999\n",
      "Bucketing conversation number 69999\n",
      "Bucketing conversation number 79999\n",
      "Bucketing conversation number 89999\n",
      "Bucketing conversation number 99999\n",
      "Bucketing conversation number 109999\n",
      "Bucketing conversation number 119999\n",
      "Bucketing conversation number 129999\n",
      "Bucketing conversation number 139999\n",
      "Bucketing conversation number 149999\n",
      "Bucketing conversation number 159999\n",
      "Bucketing conversation number 169999\n",
      "Bucketing conversation number 179999\n",
      "Bucketing conversation number 189999\n",
      "Number of samples in each bucket:\n",
      " [40260, 34845, 30871]\n",
      "Bucket scale:\n",
      " [0.379897335245716, 0.708698195817921, 1.0]\n",
      "Initialize new model\n",
      "Create placeholders\n",
      "Create inference\n",
      "Creating loss... \n",
      "It might take a couple of minutes depending on how many buckets you have.\n",
      "Time: 6.2724995613098145\n",
      "Create optimizer... \n",
      "It might take a couple of minutes depending on how many buckets you have.\n",
      "Creating opt for bucket 0 took 3.9956533908843994 seconds\n",
      "Creating opt for bucket 1 took 5.017769813537598 seconds\n",
      "Creating opt for bucket 2 took 6.689033031463623 seconds\n",
      "Running session\n",
      "Loading parameters for the Chatbot\n",
      "Iter 64100: loss 1.3138723015785216, time 1.7245807647705078\n"
     ]
    }
   ],
   "source": [
    "train()"
   ]
  },
  {
   "cell_type": "code",
   "execution_count": null,
   "metadata": {
    "collapsed": true,
    "deletable": true,
    "editable": true
   },
   "outputs": [],
   "source": []
  }
 ],
 "metadata": {
  "kernelspec": {
   "display_name": "Python 3",
   "language": "python",
   "name": "python3"
  },
  "language_info": {
   "codemirror_mode": {
    "name": "ipython",
    "version": 3
   },
   "file_extension": ".py",
   "mimetype": "text/x-python",
   "name": "python",
   "nbconvert_exporter": "python",
   "pygments_lexer": "ipython3",
   "version": "3.5.2"
  }
 },
 "nbformat": 4,
 "nbformat_minor": 2
}
