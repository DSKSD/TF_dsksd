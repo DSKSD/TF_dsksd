{
 "cells": [
  {
   "cell_type": "code",
   "execution_count": 1,
   "metadata": {
    "collapsed": false,
    "deletable": true,
    "editable": true
   },
   "outputs": [],
   "source": [
    "import os\n",
    "import math\n",
    "import random\n",
    "import numpy as np\n",
    "import tensorflow as tf"
   ]
  },
  {
   "cell_type": "code",
   "execution_count": 2,
   "metadata": {
    "collapsed": true,
    "deletable": true,
    "editable": true
   },
   "outputs": [],
   "source": [
    "from data import read_data"
   ]
  },
  {
   "cell_type": "code",
   "execution_count": 3,
   "metadata": {
    "collapsed": true,
    "deletable": true,
    "editable": true
   },
   "outputs": [],
   "source": [
    "flags = tf.app.flags\n",
    "\n",
    "flags.DEFINE_integer(\"edim\", 150, \"internal state dimension [150]\")\n",
    "flags.DEFINE_integer(\"lindim\", 75, \"linear part of the state [75]\")\n",
    "flags.DEFINE_integer(\"nhop\", 6, \"number of hops [6]\")\n",
    "flags.DEFINE_integer(\"mem_size\", 100, \"memory size [100]\")\n",
    "flags.DEFINE_integer(\"batch_size\", 128, \"batch size to use during training [128]\")\n",
    "flags.DEFINE_integer(\"nepoch\", 100, \"number of epoch to use during training [100]\")\n",
    "flags.DEFINE_float(\"init_lr\", 0.01, \"initial learning rate [0.01]\")\n",
    "flags.DEFINE_float(\"init_hid\", 0.1, \"initial internal state value [0.1]\")\n",
    "flags.DEFINE_float(\"init_std\", 0.05, \"weight initialization std [0.05]\")\n",
    "flags.DEFINE_float(\"max_grad_norm\", 50, \"clip gradients to this norm [50]\")\n",
    "flags.DEFINE_string(\"data_dir\", \"data\", \"data directory [data]\")\n",
    "flags.DEFINE_string(\"checkpoint_dir\", \"checkpoints\", \"checkpoint directory [checkpoints]\")\n",
    "flags.DEFINE_string(\"data_name\", \"ptb\", \"data set name [ptb]\")\n",
    "flags.DEFINE_boolean(\"is_test\", False, \"True for testing, False for Training [False]\")\n",
    "flags.DEFINE_boolean(\"show\", False, \"print progress [False]\")\n",
    "\n",
    "FLAGS = flags.FLAGS"
   ]
  },
  {
   "cell_type": "code",
   "execution_count": 4,
   "metadata": {
    "collapsed": true,
    "deletable": true,
    "editable": true
   },
   "outputs": [],
   "source": [
    "count = []\n",
    "word2idx = {}"
   ]
  },
  {
   "cell_type": "code",
   "execution_count": 5,
   "metadata": {
    "collapsed": false,
    "deletable": true,
    "editable": true
   },
   "outputs": [
    {
     "name": "stdout",
     "output_type": "stream",
     "text": [
      " the N stock specialist firms on the big board floor the buyers and sellers of last resort who were criticized after the N crash once again could n't handle the selling pressure \n",
      "\n"
     ]
    }
   ],
   "source": [
    "with open('data/ptb.test.txt','r') as f:\n",
    "    test = f.readlines()\n",
    "    print(test[3])"
   ]
  },
  {
   "cell_type": "code",
   "execution_count": 6,
   "metadata": {
    "collapsed": false,
    "deletable": true,
    "editable": true
   },
   "outputs": [
    {
     "name": "stdout",
     "output_type": "stream",
     "text": [
      "Read 929589 words from data/ptb.train.txt\n",
      "Read 73760 words from data/ptb.valid.txt\n",
      "Read 82430 words from data/ptb.test.txt\n"
     ]
    }
   ],
   "source": [
    "train_data = read_data('%s/%s.train.txt' % (\"data\", \"ptb\"), count, word2idx)\n",
    "valid_data = read_data('%s/%s.valid.txt' % (\"data\", \"ptb\"), count, word2idx)\n",
    "test_data = read_data('%s/%s.test.txt' % (\"data\", \"ptb\"), count, word2idx)\n",
    "\n",
    "idx2word = dict(zip(word2idx.values(), word2idx.keys()))\n",
    "\n",
    "FLAGS.nwords = len(word2idx)"
   ]
  },
  {
   "cell_type": "code",
   "execution_count": 7,
   "metadata": {
    "collapsed": false
   },
   "outputs": [
    {
     "data": {
      "text/plain": [
       "9979"
      ]
     },
     "execution_count": 7,
     "metadata": {},
     "output_type": "execute_result"
    }
   ],
   "source": [
    "train_data[3]"
   ]
  },
  {
   "cell_type": "code",
   "execution_count": 31,
   "metadata": {
    "collapsed": false,
    "deletable": true,
    "editable": true
   },
   "outputs": [
    {
     "data": {
      "text/plain": [
       "929589"
      ]
     },
     "execution_count": 31,
     "metadata": {},
     "output_type": "execute_result"
    }
   ],
   "source": [
    "len(train_data)"
   ]
  },
  {
   "cell_type": "code",
   "execution_count": 9,
   "metadata": {
    "collapsed": false,
    "deletable": true,
    "editable": true
   },
   "outputs": [
    {
     "name": "stdout",
     "output_type": "stream",
     "text": [
      "49251\n",
      "(128, 73760)\n",
      "(128, 100)\n"
     ]
    }
   ],
   "source": [
    "N = int(math.ceil(len(valid_data) / 128)) # math.ceil : returns smallest integer not less than x.\n",
    "cost = 0\n",
    "\n",
    "x = np.ndarray([128, 150], dtype=np.float32)\n",
    "time = np.ndarray([128, 100], dtype=np.int32)\n",
    "target = np.zeros([128, len(valid_data)]) # one-hot-encoded\n",
    "context = np.ndarray([128, 100])\n",
    "\n",
    "x.fill(0.1) # 초기화 \n",
    "for t in range(100):\n",
    "    time[:,t].fill(t) # [[0,1,2,3,4,...,mem_size] ... ]\n",
    "    \n",
    "    \n",
    "for idx in range(N):\n",
    "    target.fill(0)\n",
    "    for b in range(128):\n",
    "        m = random.randrange(100, len(valid_data)) # 100~ x  에서 하나를 가져와서..\n",
    "        target[b][valid_data[m]] = 1 # 타겟을 랜덤으로 고르는건가?\n",
    "        context[b] = valid_data[m - 100:m]\n",
    "    \n",
    "        print(m)\n",
    "        print(target.shape)\n",
    "        print(context.shape)\n",
    "        break\n",
    "    break"
   ]
  },
  {
   "cell_type": "code",
   "execution_count": 21,
   "metadata": {
    "collapsed": true
   },
   "outputs": [],
   "source": [
    "y = np.ndarray([128,100,150],dtype=np.float32)"
   ]
  },
  {
   "cell_type": "code",
   "execution_count": 22,
   "metadata": {
    "collapsed": false,
    "deletable": true,
    "editable": true
   },
   "outputs": [],
   "source": [
    "x = np.reshape(x,[-1,1,150])"
   ]
  },
  {
   "cell_type": "code",
   "execution_count": 23,
   "metadata": {
    "collapsed": true
   },
   "outputs": [],
   "source": [
    "a = tf.convert_to_tensor(x,dtype=tf.float32)\n",
    "b = tf.convert_to_tensor(y,dtype=tf.float32)"
   ]
  },
  {
   "cell_type": "code",
   "execution_count": 26,
   "metadata": {
    "collapsed": true
   },
   "outputs": [],
   "source": [
    "z = np.ndarray([128,150],dtype=np.float32)"
   ]
  },
  {
   "cell_type": "code",
   "execution_count": 18,
   "metadata": {
    "collapsed": true,
    "deletable": true,
    "editable": true
   },
   "outputs": [],
   "source": [
    "b = tf.constant(np.arange(13, 25, dtype=np.int32),\n",
    "                shape=[2, 3, 2])    "
   ]
  },
  {
   "cell_type": "code",
   "execution_count": 28,
   "metadata": {
    "collapsed": false
   },
   "outputs": [],
   "source": [
    "c = tf.convert_to_tensor(z,dtype=np.float32)"
   ]
  },
  {
   "cell_type": "code",
   "execution_count": 29,
   "metadata": {
    "collapsed": false,
    "deletable": true,
    "editable": true
   },
   "outputs": [
    {
     "name": "stdout",
     "output_type": "stream",
     "text": [
      "(128, 75) (128, 75)\n"
     ]
    }
   ],
   "source": [
    "with tf.Session() as sess:\n",
    "    a = tf.slice(c,[0,0],[128,75])\n",
    "    b = tf.slice(c, [0, 75], [128, 75])\n",
    "    print(a.shape,b.shape)"
   ]
  },
  {
   "cell_type": "code",
   "execution_count": 18,
   "metadata": {
    "collapsed": false,
    "deletable": true,
    "editable": true
   },
   "outputs": [
    {
     "data": {
      "text/plain": [
       "(128, 100)"
      ]
     },
     "execution_count": 18,
     "metadata": {},
     "output_type": "execute_result"
    }
   ],
   "source": [
    "time.shape"
   ]
  },
  {
   "cell_type": "code",
   "execution_count": null,
   "metadata": {
    "collapsed": true,
    "deletable": true,
    "editable": true
   },
   "outputs": [],
   "source": []
  }
 ],
 "metadata": {
  "kernelspec": {
   "display_name": "Python 3",
   "language": "python",
   "name": "python3"
  },
  "language_info": {
   "codemirror_mode": {
    "name": "ipython",
    "version": 3
   },
   "file_extension": ".py",
   "mimetype": "text/x-python",
   "name": "python",
   "nbconvert_exporter": "python",
   "pygments_lexer": "ipython3",
   "version": "3.5.2"
  }
 },
 "nbformat": 4,
 "nbformat_minor": 0
}
