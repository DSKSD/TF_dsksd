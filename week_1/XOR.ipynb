{
 "cells": [
  {
   "cell_type": "code",
   "execution_count": 1,
   "metadata": {
    "collapsed": true
   },
   "outputs": [],
   "source": [
    "import tensorflow as tf\n",
    "import numpy as np"
   ]
  },
  {
   "cell_type": "code",
   "execution_count": 2,
   "metadata": {
    "collapsed": false
   },
   "outputs": [
    {
     "name": "stdout",
     "output_type": "stream",
     "text": [
      "[[ 0.  0.]\n",
      " [ 0.  1.]\n",
      " [ 1.  0.]\n",
      " [ 1.  1.]]\n",
      "[[ 0.]\n",
      " [ 1.]\n",
      " [ 1.]\n",
      " [ 0.]]\n"
     ]
    }
   ],
   "source": [
    "xy = np.loadtxt('xor_train.txt', unpack=True)\n",
    "x_data = np.transpose(xy[0:-1])\n",
    "y_data = np.reshape(xy[-1], (4, 1))\n",
    "\n",
    "print(x_data)\n",
    "print(y_data)"
   ]
  },
  {
   "cell_type": "code",
   "execution_count": 3,
   "metadata": {
    "collapsed": true
   },
   "outputs": [],
   "source": [
    "X = tf.placeholder(tf.float32, name='x-input')\n",
    "Y = tf.placeholder(tf.float32, name='y-input')"
   ]
  },
  {
   "cell_type": "code",
   "execution_count": 4,
   "metadata": {
    "collapsed": true
   },
   "outputs": [],
   "source": [
    "w1 = tf.Variable(tf.random_uniform([2, 5], -1.0, 1.0), name='weight1')\n",
    "w2 = tf.Variable(tf.random_uniform([5, 10], -1.0, 1.0), name='weight2')\n",
    "b1 = tf.Variable(tf.zeros([5]), name=\"Bias1\")\n",
    "b2 = tf.Variable(tf.zeros([10]), name=\"Bias2\")"
   ]
  },
  {
   "cell_type": "code",
   "execution_count": 6,
   "metadata": {
    "collapsed": false
   },
   "outputs": [],
   "source": [
    "hidden = tf.sigmoid(tf.matmul(X, w1) + b1)\n",
    "hypothesis = tf.sigmoid(tf.matmul(hidden, w2) + b2)"
   ]
  },
  {
   "cell_type": "code",
   "execution_count": 7,
   "metadata": {
    "collapsed": true
   },
   "outputs": [],
   "source": [
    "cost = -tf.reduce_mean(Y * tf.log(hypothesis) + (1-Y) * tf.log(1 - hypothesis))\n",
    "a = tf.Variable(0.1)\n",
    "optimizer = tf.train.GradientDescentOptimizer(a)\n",
    "train = optimizer.minimize(cost)\n",
    "init = tf.global_variables_initializer()"
   ]
  },
  {
   "cell_type": "code",
   "execution_count": 12,
   "metadata": {
    "collapsed": false
   },
   "outputs": [
    {
     "name": "stdout",
     "output_type": "stream",
     "text": [
      "cost : 0.713662\n",
      "cost : 0.69376\n",
      "cost : 0.693578\n",
      "cost : 0.693452\n",
      "cost : 0.693358\n",
      "cost : 0.693282\n",
      "cost : 0.693214\n",
      "cost : 0.693148\n",
      "cost : 0.693076\n",
      "cost : 0.69299\n",
      "cost : 0.692879\n",
      "cost : 0.69272\n",
      "cost : 0.692475\n",
      "cost : 0.692063\n",
      "cost : 0.691297\n",
      "cost : 0.689702\n",
      "cost : 0.685936\n",
      "cost : 0.67594\n",
      "cost : 0.647953\n",
      "cost : 0.577652\n",
      "[array([[ 0.37132993,  0.40811491,  0.37397435,  0.39307037,  0.3517049 ,\n",
      "         0.33980596,  0.39138135,  0.40056822,  0.40613636,  0.38187718],\n",
      "       [ 0.69469392,  0.70675921,  0.7215063 ,  0.70149261,  0.72943377,\n",
      "         0.74931842,  0.70100725,  0.69677502,  0.6942398 ,  0.71687758],\n",
      "       [ 0.59290731,  0.52022207,  0.56357175,  0.54265761,  0.5960567 ,\n",
      "         0.60567462,  0.54801464,  0.53438199,  0.52492899,  0.5589267 ],\n",
      "       [ 0.33652595,  0.35930243,  0.33900684,  0.36637348,  0.31785101,\n",
      "         0.29718545,  0.36034653,  0.36569208,  0.37161806,  0.3361578 ]], dtype=float32), array([[ 0.,  0.,  0.,  0.,  0.,  0.,  0.,  0.,  0.,  0.],\n",
      "       [ 1.,  1.,  1.,  1.,  1.,  1.,  1.,  1.,  1.,  1.],\n",
      "       [ 1.,  1.,  1.,  1.,  1.,  1.,  1.,  1.,  1.,  1.],\n",
      "       [ 0.,  0.,  0.,  0.,  0.,  0.,  0.,  0.,  0.,  0.]], dtype=float32), array([[ True,  True,  True,  True,  True,  True,  True,  True,  True,\n",
      "         True],\n",
      "       [ True,  True,  True,  True,  True,  True,  True,  True,  True,\n",
      "         True],\n",
      "       [ True,  True,  True,  True,  True,  True,  True,  True,  True,\n",
      "         True],\n",
      "       [ True,  True,  True,  True,  True,  True,  True,  True,  True,\n",
      "         True]], dtype=bool)]\n",
      "accuracy 1.0\n"
     ]
    }
   ],
   "source": [
    "with tf.Session() as sess:\n",
    "    sess.run(init)\n",
    "    \n",
    "    for step in range(20000):\n",
    "        sess.run(train, feed_dict={X: x_data, Y: y_data})\n",
    "        if step % 1000 == 0:\n",
    "            print(\"cost :\", sess.run(cost, feed_dict={X: x_data, Y: y_data}))\n",
    "\n",
    "    correct_prediction = tf.equal(tf.floor(hypothesis+0.5), Y)\n",
    "\n",
    "    accuracy = tf.reduce_mean(tf.cast(correct_prediction, \"float\"))\n",
    "    print(sess.run([hypothesis, tf.floor(hypothesis+0.5), correct_prediction], feed_dict={X: x_data, Y: y_data}))\n",
    "    print(\"accuracy\", accuracy.eval({X: x_data, Y: y_data}))"
   ]
  },
  {
   "cell_type": "code",
   "execution_count": null,
   "metadata": {
    "collapsed": true
   },
   "outputs": [],
   "source": []
  }
 ],
 "metadata": {
  "kernelspec": {
   "display_name": "Python 3",
   "language": "python",
   "name": "python3"
  },
  "language_info": {
   "codemirror_mode": {
    "name": "ipython",
    "version": 3
   },
   "file_extension": ".py",
   "mimetype": "text/x-python",
   "name": "python",
   "nbconvert_exporter": "python",
   "pygments_lexer": "ipython3",
   "version": "3.5.1"
  }
 },
 "nbformat": 4,
 "nbformat_minor": 0
}
