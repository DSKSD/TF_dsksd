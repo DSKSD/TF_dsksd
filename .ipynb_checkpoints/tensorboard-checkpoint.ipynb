{
 "cells": [
  {
   "cell_type": "code",
   "execution_count": 1,
   "metadata": {
    "collapsed": true
   },
   "outputs": [],
   "source": [
    "import tensorflow as tf\n",
    "import numpy as np"
   ]
  },
  {
   "cell_type": "code",
   "execution_count": 2,
   "metadata": {
    "collapsed": true
   },
   "outputs": [],
   "source": [
    "xy = np.loadtxt('07train.txt', unpack=True)\n",
    "x_data = np.transpose(xy[0:-1])\n",
    "y_data = np.reshape(xy[-1], (4, 1))"
   ]
  },
  {
   "cell_type": "code",
   "execution_count": 3,
   "metadata": {
    "collapsed": false
   },
   "outputs": [],
   "source": [
    "X = tf.placeholder(tf.float32, name='X-input')\n",
    "Y = tf.placeholder(tf.float32, name='Y-input')"
   ]
  },
  {
   "cell_type": "code",
   "execution_count": 4,
   "metadata": {
    "collapsed": true
   },
   "outputs": [],
   "source": [
    "W1 = tf.Variable(tf.random_uniform([2,2],-1.0,1.0), name=\"Weight1\")\n",
    "W2 = tf.Variable(tf.random_uniform([2,1],-1.0,1.0), name=\"Weight2\")\n",
    "b1 = tf.Variable(tf.zeros([2]),name=\"Bias1\")\n",
    "b2 = tf.Variable(tf.zeros([1]),name=\"Bias2\")"
   ]
  },
  {
   "cell_type": "code",
   "execution_count": 5,
   "metadata": {
    "collapsed": true
   },
   "outputs": [],
   "source": [
    "with tf.name_scope(\"layer2\") as scope:\n",
    "    L2 = tf.sigmoid(tf.matmul(X,W1)+b1)\n",
    "\n",
    "with tf.name_scope(\"layer3\") as scope:\n",
    "    hypothesis = tf.sigmoid(tf.matmul(L2,W2)+b2)\n",
    "\n",
    "with tf.name_scope('cost') as scope:\n",
    "    cost = -tf.reduce_mean(Y * tf.log(hypothesis) + (1-Y) * tf.log(1 - hypothesis))\n",
    "    cost_summ = tf.summary.scalar(\"cost\", cost)\n",
    "\n",
    "with tf.name_scope('train') as scope:\n",
    "    a = tf.Variable(0.1)\n",
    "    optimizer = tf.train.GradientDescentOptimizer(a)\n",
    "    train = optimizer.minimize(cost)"
   ]
  },
  {
   "cell_type": "code",
   "execution_count": 6,
   "metadata": {
    "collapsed": false
   },
   "outputs": [
    {
     "name": "stdout",
     "output_type": "stream",
     "text": [
      "0 0.693383 [[-0.94161987 -0.94024873]\n",
      " [ 0.667485   -0.06461569]] [[ 0.19726788]\n",
      " [-0.08010776]]\n",
      "2000 0.682275 [[-1.50341916 -1.1025883 ]\n",
      " [ 0.86620241 -0.42884374]] [[ 0.81703466]\n",
      " [-0.50788754]]\n",
      "4000 0.439278 [[-4.44004393 -3.72456551]\n",
      " [ 3.17028284 -2.36543679]] [[ 3.8158679 ]\n",
      " [-3.40415716]]\n",
      "6000 0.374289 [[-6.00071239 -5.56378841]\n",
      " [ 3.84581304 -3.28599453]] [[ 5.13967943]\n",
      " [-5.03702641]]\n",
      "8000 0.361683 [[-6.76280594 -6.42003345]\n",
      " [ 4.09989214 -3.66423988]] [[ 5.75497293]\n",
      " [-5.75242901]]\n",
      "10000 0.356765 [[-7.25634527 -6.96001148]\n",
      " [ 4.24914646 -3.88633251]] [[ 6.14867163]\n",
      " [-6.19559479]]\n",
      "12000 0.3542 [[-7.6191206  -7.35099125]\n",
      " [ 4.35302448 -4.03958368]] [[ 6.43674326]\n",
      " [-6.51375818]]\n",
      "14000 0.35264 [[-7.90507746 -7.65618801]\n",
      " [ 4.43198204 -4.15500736]] [[ 6.66336775]\n",
      " [-6.76090145]]\n",
      "16000 0.351597 [[-8.14065647 -7.9058857 ]\n",
      " [ 4.49530697 -4.24682426]] [[ 6.84991837]\n",
      " [-6.9624753 ]]\n",
      "18000 0.350852 [[-8.3407259  -8.11685085]\n",
      " [ 4.54798603 -4.32262897]] [[ 7.00830889]\n",
      " [-7.13242054]]\n",
      "[array([[ 0.00427979],\n",
      "       [ 0.9960736 ],\n",
      "       [ 0.49815941],\n",
      "       [ 0.50148511]], dtype=float32), array([[ 0.],\n",
      "       [ 1.],\n",
      "       [ 0.],\n",
      "       [ 1.]], dtype=float32), array([[ True],\n",
      "       [ True],\n",
      "       [False],\n",
      "       [False]], dtype=bool)]\n",
      "accuracy 0.5\n"
     ]
    }
   ],
   "source": [
    "W1_hist = tf.summary.histogram(\"Weights1\", W1)\n",
    "W2_hist = tf.summary.histogram(\"Weights2\", W2)\n",
    "\n",
    "b1_hist = tf.summary.histogram(\"biases1\", b1)\n",
    "b2_hist = tf.summary.histogram(\"biases2\", b2)\n",
    "\n",
    "y_hist = tf.summary.histogram(\"y\", Y)\n",
    "\n",
    "init = tf.global_variables_initializer()\n",
    "\n",
    "with tf.Session() as sess:\n",
    "    sess.run(init)\n",
    "   # tf.train.write_graph(sess.graph, './logs/xor_logs', 'graph.pbtxt')\n",
    "    merged = tf.summary.merge_all()\n",
    "    writer = tf.summary.FileWriter(\"./logs/xor_logs\", sess.graph)\n",
    "\n",
    "    for step in range(20000):\n",
    "        sess.run(train, feed_dict={X: x_data, Y: y_data})\n",
    "        if step % 2000 == 0:\n",
    "            summary = sess.run(merged, feed_dict={X: x_data, Y: y_data})\n",
    "            writer.add_summary(summary, step)\n",
    "            print(step, sess.run(cost, feed_dict={X: x_data, Y: y_data}), sess.run(W1), sess.run(W2))\n",
    "    \n",
    "    writer.add_graph(sess.graph)\n",
    "    correct_prediction = tf.equal(tf.floor(hypothesis+0.5), Y)\n",
    "\n",
    "    accuracy = tf.reduce_mean(tf.cast(correct_prediction, \"float\"))\n",
    "    print(sess.run([hypothesis, tf.floor(hypothesis+0.5), correct_prediction], feed_dict={X: x_data, Y: y_data}))\n",
    "    print(\"accuracy\", accuracy.eval({X: x_data, Y: y_data}))"
   ]
  },
  {
   "cell_type": "code",
   "execution_count": null,
   "metadata": {
    "collapsed": true
   },
   "outputs": [],
   "source": []
  }
 ],
 "metadata": {
  "kernelspec": {
   "display_name": "Python 3",
   "language": "python",
   "name": "python3"
  },
  "language_info": {
   "codemirror_mode": {
    "name": "ipython",
    "version": 3
   },
   "file_extension": ".py",
   "mimetype": "text/x-python",
   "name": "python",
   "nbconvert_exporter": "python",
   "pygments_lexer": "ipython3",
   "version": "3.5.1"
  }
 },
 "nbformat": 4,
 "nbformat_minor": 0
}
