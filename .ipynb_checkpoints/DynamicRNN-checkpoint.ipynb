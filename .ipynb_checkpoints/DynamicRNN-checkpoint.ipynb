{
 "cells": [
  {
   "cell_type": "code",
   "execution_count": 1,
   "metadata": {
    "collapsed": true
   },
   "outputs": [],
   "source": [
    "import tensorflow as tf\n",
    "import numpy as np"
   ]
  },
  {
   "cell_type": "code",
   "execution_count": 2,
   "metadata": {
    "collapsed": true
   },
   "outputs": [],
   "source": [
    "num_arr = ['1','2','3','4','5','6','7','8','9','0']\n",
    "num_dic = {n : i for i,n in enumerate(num_arr)}\n",
    "dic_len = len(num_dic)"
   ]
  },
  {
   "cell_type": "code",
   "execution_count": 3,
   "metadata": {
    "collapsed": true
   },
   "outputs": [],
   "source": [
    "seq_data = ['1234','2345','3456','4567','5678','6789','7890']\n",
    "seq_data2 = ['123','234','345','456','567','678','789','890']"
   ]
  },
  {
   "cell_type": "code",
   "execution_count": 4,
   "metadata": {
    "collapsed": true
   },
   "outputs": [],
   "source": [
    "def one_hot_seq(seq_data):\n",
    "    x_batch = []\n",
    "    y_batch = []\n",
    "    for seq in seq_data:\n",
    "        x_data = [num_dic[n] for n in seq[:-1]]\n",
    "        y_data = num_dic[seq[-1]]\n",
    "        x_batch.append(np.eye(dic_len)[x_data])\n",
    "        y_batch.append([y_data])\n",
    "        \n",
    "    return x_batch, y_batch"
   ]
  },
  {
   "cell_type": "code",
   "execution_count": 5,
   "metadata": {
    "collapsed": true
   },
   "outputs": [],
   "source": [
    "n_input = 10\n",
    "n_classes = 10\n",
    "n_hidden = 128\n",
    "n_layers = 3"
   ]
  },
  {
   "cell_type": "code",
   "execution_count": 6,
   "metadata": {
    "collapsed": true
   },
   "outputs": [],
   "source": [
    "X = tf.placeholder(tf.float32, [None,None, n_input])\n",
    "Y = tf.placeholder(tf.int32, [None,1])\n",
    "W = tf.Variable(tf.random_normal([n_hidden, n_classes]))\n",
    "b = tf.Variable(tf.random_normal([n_classes]))"
   ]
  },
  {
   "cell_type": "code",
   "execution_count": 7,
   "metadata": {
    "collapsed": true
   },
   "outputs": [],
   "source": [
    "X_t = tf.transpose(X, [1,0,2])"
   ]
  },
  {
   "cell_type": "markdown",
   "metadata": {},
   "source": [
    "[batch_size, n_steps, n_input] -> [n_steps, batch_size, n_input]"
   ]
  },
  {
   "cell_type": "code",
   "execution_count": 8,
   "metadata": {
    "collapsed": false
   },
   "outputs": [],
   "source": [
    "cell = tf.contrib.rnn.BasicRNNCell(n_hidden)\n",
    "cell = tf.contrib.rnn.DropoutWrapper(cell, output_keep_prob=0.5)\n",
    "cell = tf.contrib.rnn.MultiRNNCell([cell]*n_layers)"
   ]
  },
  {
   "cell_type": "code",
   "execution_count": 9,
   "metadata": {
    "collapsed": false
   },
   "outputs": [],
   "source": [
    "outputs, states = tf.nn.dynamic_rnn(cell,X_t,dtype=tf.float32,time_major=True)"
   ]
  },
  {
   "cell_type": "code",
   "execution_count": 10,
   "metadata": {
    "collapsed": false
   },
   "outputs": [],
   "source": [
    "logits = tf.matmul(outputs[-1],W)+b"
   ]
  },
  {
   "cell_type": "code",
   "execution_count": 11,
   "metadata": {
    "collapsed": true
   },
   "outputs": [],
   "source": [
    "labels = tf.reshape(Y,[-1])"
   ]
  },
  {
   "cell_type": "code",
   "execution_count": 12,
   "metadata": {
    "collapsed": false
   },
   "outputs": [],
   "source": [
    "cost = tf.reduce_mean(tf.nn.sparse_softmax_cross_entropy_with_logits(logits=logits,labels=labels))"
   ]
  },
  {
   "cell_type": "code",
   "execution_count": 13,
   "metadata": {
    "collapsed": true
   },
   "outputs": [],
   "source": [
    "train_op = tf.train.RMSPropOptimizer(learning_rate=0.01).minimize(cost)"
   ]
  },
  {
   "cell_type": "code",
   "execution_count": 17,
   "metadata": {
    "collapsed": false
   },
   "outputs": [],
   "source": [
    "#########\n",
    "# 결과 확인\n",
    "######\n",
    "# 테스트 데이터를 받아 결과를 예측해보는 함수\n",
    "def prediction(seq_data):\n",
    "    prediction = tf.cast(tf.argmax(logits, 1), tf.int32)\n",
    "    prediction_check = tf.equal(prediction, labels)\n",
    "    accuracy = tf.reduce_mean(tf.cast(prediction_check, tf.float32))\n",
    "\n",
    "    x_batch_t, y_batch_t = one_hot_seq(seq_data)\n",
    "    real, predict, accuracy_val = sess.run([labels, prediction, accuracy],\n",
    "                                           feed_dict={X: x_batch_t, Y: y_batch_t})\n",
    "\n",
    "    print(\"\\n=== 예측 결과 ===\")\n",
    "    print('순차열:', seq_data)\n",
    "    print('실제값:', [num_arr[i] for i in real])\n",
    "    print('예측값:', [num_arr[i] for i in predict])\n",
    "    print('정확도:', accuracy_val)"
   ]
  },
  {
   "cell_type": "code",
   "execution_count": 18,
   "metadata": {
    "collapsed": false
   },
   "outputs": [
    {
     "name": "stdout",
     "output_type": "stream",
     "text": [
      "Epoch: 0001 cost = bucket[4] = 9.339531 bucket[3] = 3.531224\n",
      "Epoch: 0002 cost = bucket[4] = 2.079773 bucket[3] = 3.353966\n",
      "Epoch: 0003 cost = bucket[4] = 4.107381 bucket[3] = 2.376733\n",
      "Epoch: 0004 cost = bucket[4] = 0.271868 bucket[3] = 3.158350\n",
      "Epoch: 0005 cost = bucket[4] = 0.054608 bucket[3] = 0.703452\n",
      "Epoch: 0006 cost = bucket[4] = 0.459747 bucket[3] = 1.033384\n",
      "Epoch: 0007 cost = bucket[4] = 0.494497 bucket[3] = 0.163981\n",
      "Epoch: 0008 cost = bucket[4] = 1.658511 bucket[3] = 0.776330\n",
      "Epoch: 0009 cost = bucket[4] = 0.038059 bucket[3] = 0.501520\n",
      "Epoch: 0010 cost = bucket[4] = 0.605457 bucket[3] = 0.936578\n",
      "Epoch: 0011 cost = bucket[4] = 0.039154 bucket[3] = 0.041471\n",
      "Epoch: 0012 cost = bucket[4] = 0.075255 bucket[3] = 0.011982\n",
      "Epoch: 0013 cost = bucket[4] = 0.307956 bucket[3] = 0.310786\n",
      "Epoch: 0014 cost = bucket[4] = 0.001072 bucket[3] = 0.317332\n",
      "Epoch: 0015 cost = bucket[4] = 0.263067 bucket[3] = 0.252407\n",
      "Epoch: 0016 cost = bucket[4] = 0.000039 bucket[3] = 0.473130\n",
      "Epoch: 0017 cost = bucket[4] = 0.000151 bucket[3] = 0.095829\n",
      "Epoch: 0018 cost = bucket[4] = 0.194364 bucket[3] = 0.016913\n",
      "Epoch: 0019 cost = bucket[4] = 0.477571 bucket[3] = 0.010333\n",
      "Epoch: 0020 cost = bucket[4] = 0.198463 bucket[3] = 1.242548\n",
      "Epoch: 0021 cost = bucket[4] = 1.108743 bucket[3] = 0.005158\n",
      "Epoch: 0022 cost = bucket[4] = 1.507220 bucket[3] = 0.169455\n",
      "Epoch: 0023 cost = bucket[4] = 0.000162 bucket[3] = 1.124712\n",
      "Epoch: 0024 cost = bucket[4] = 0.853520 bucket[3] = 1.984608\n",
      "Epoch: 0025 cost = bucket[4] = 2.407526 bucket[3] = 0.575154\n",
      "Epoch: 0026 cost = bucket[4] = 0.656291 bucket[3] = 0.013024\n",
      "Epoch: 0027 cost = bucket[4] = 0.000518 bucket[3] = 0.302835\n",
      "Epoch: 0028 cost = bucket[4] = 0.130563 bucket[3] = 3.299824\n",
      "Epoch: 0029 cost = bucket[4] = 3.110578 bucket[3] = 0.256053\n",
      "Epoch: 0030 cost = bucket[4] = 0.000412 bucket[3] = 0.092748\n",
      "\n",
      "=== 예측 결과 ===\n",
      "순차열: ['123', '345', '789']\n",
      "실제값: ['3', '5', '9']\n",
      "예측값: ['3', '7', '9']\n",
      "정확도: 0.666667\n",
      "\n",
      "=== 예측 결과 ===\n",
      "순차열: ['1234', '2345', '7890']\n",
      "실제값: ['4', '5', '0']\n",
      "예측값: ['4', '9', '0']\n",
      "정확도: 0.666667\n",
      "\n",
      "=== 예측 결과 ===\n",
      "순차열: ['23', '78', '90']\n",
      "실제값: ['3', '8', '0']\n",
      "예측값: ['3', '8', '0']\n",
      "정확도: 1.0\n",
      "\n",
      "=== 예측 결과 ===\n",
      "순차열: ['12345', '34567', '67890']\n",
      "실제값: ['5', '7', '0']\n",
      "예측값: ['5', '7', '0']\n",
      "정확도: 1.0\n"
     ]
    }
   ],
   "source": [
    "with tf.Session() as sess:\n",
    "    sess.run(tf.global_variables_initializer())\n",
    "    \n",
    "    x_batch, y_batch = one_hot_seq(seq_data)\n",
    "    x_batch2, y_batch2 = one_hot_seq(seq_data2)\n",
    "    \n",
    "    for epoch in range(30):\n",
    "        _, loss4 = sess.run([train_op, cost], feed_dict={X:x_batch,\n",
    "                                                         Y: y_batch})\n",
    "        _, loss3 = sess.run([train_op, cost], feed_dict={X:x_batch2, Y:y_batch2})\n",
    "        \n",
    "        print('Epoch:', '%04d' % (epoch+1), 'cost =',\\\n",
    "             'bucket[4] =', '{:.6f}'.format(loss4),\\\n",
    "             'bucket[3] =', '{:.6f}'.format(loss3))\n",
    "        \n",
    "    # 학습 데이터에 있던 시퀀스로 테스트\n",
    "    seq_data_test = ['123', '345', '789']\n",
    "    prediction(seq_data_test)\n",
    "\n",
    "    seq_data_test = ['1234', '2345', '7890']\n",
    "    prediction(seq_data_test)\n",
    "\n",
    "    # 학습시키지 않았던 시퀀스를 테스트 해 봅니다.\n",
    "    seq_data_test = ['23', '78', '90']\n",
    "    prediction(seq_data_test)\n",
    "\n",
    "    seq_data_test = ['12345', '34567', '67890']\n",
    "    prediction(seq_data_test)"
   ]
  }
 ],
 "metadata": {
  "kernelspec": {
   "display_name": "Python 3",
   "language": "python",
   "name": "python3"
  },
  "language_info": {
   "codemirror_mode": {
    "name": "ipython",
    "version": 3
   },
   "file_extension": ".py",
   "mimetype": "text/x-python",
   "name": "python",
   "nbconvert_exporter": "python",
   "pygments_lexer": "ipython3",
   "version": "3.5.1"
  }
 },
 "nbformat": 4,
 "nbformat_minor": 0
}
