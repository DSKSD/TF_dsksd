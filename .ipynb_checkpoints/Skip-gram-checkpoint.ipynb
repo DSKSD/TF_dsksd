{
 "cells": [
  {
   "cell_type": "code",
   "execution_count": 1,
   "metadata": {
    "collapsed": true
   },
   "outputs": [],
   "source": [
    "import tensorflow as tf\n",
    "import numpy as np\n",
    "from tensorflow.contrib.tensorboard.plugins import projector\n",
    "\n",
    "from process_data import process_data,download"
   ]
  },
  {
   "cell_type": "markdown",
   "metadata": {},
   "source": [
    "# Hyperparameter "
   ]
  },
  {
   "cell_type": "code",
   "execution_count": 2,
   "metadata": {
    "collapsed": true
   },
   "outputs": [],
   "source": [
    "VOCAB_SIZE = 50000\n",
    "BATCH_SIZE = 128\n",
    "EMBED_SIZE = 128 # dimension of the word embedding vectors\n",
    "SKIP_WINDOW = 1 # the context window\n",
    "NUM_SAMPLED = 64    # Number of negative examples to sample.\n",
    "LEARNING_RATE = 1.0\n",
    "NUM_TRAIN_STEPS = 10000\n",
    "SKIP_STEP = 2000 # how many steps to skip before reporting the loss"
   ]
  },
  {
   "cell_type": "markdown",
   "metadata": {},
   "source": [
    "# 클래스 형식 TF 코드 "
   ]
  },
  {
   "cell_type": "markdown",
   "metadata": {},
   "source": [
    "* FLAG로 config 받기\n",
    "* init으로 초기화 후, build model으로 연결할 것\n",
    "* train (or run_epoch) // test 함수를 따로 둘 것\n",
    "* summary로 텐서보드 사용하기\n",
    "* generator로 batch를 가져와서 epoch 돌도록 하기 (generator를 공부하기!)\n",
    "* save와 restore로 serving까지"
   ]
  },
  {
   "cell_type": "code",
   "execution_count": 23,
   "metadata": {
    "collapsed": true
   },
   "outputs": [],
   "source": [
    "class SkipGramModel:     \n",
    "    \"\"\" Build the graph for word2vec model \"\"\"     \n",
    "    def __init__(self):     \n",
    "        self._create_placeholders()\n",
    "        self._create_embedding()\n",
    "        self._create_loss()\n",
    "        self._create_optimizer()\n",
    "        \n",
    "    def _create_placeholders(self):\n",
    "        \"\"\" Step 1: define the placeholders for input and output \"\"\"\n",
    "        self.center_words = tf.placeholder(tf.int32, shape=[BATCH_SIZE],name='center_words')\n",
    "        self.target_words = tf.placeholder(tf.int32, shape=[BATCH_SIZE,1],name='target_words')\n",
    "    \n",
    "    def _create_embedding(self):         \n",
    "        \"\"\" Step 2: define weights. In word2vec, it's actually the weights that we care about \"\"\"\n",
    "\n",
    "        self.embed_matrix = tf.Variable(tf.random_uniform([VOCAB_SIZE, EMBED_SIZE],-1.0,1.0,),\n",
    "                                       name='embed_matrix')\n",
    "        \n",
    "        self.embed = tf.nn.embedding_lookup(self.embed_matrix,self.center_words,name='embed')\n",
    "        \n",
    "    def _create_loss(self):         \n",
    "        \"\"\" Step 3 + 4: define the inference + the loss function \"\"\"         \n",
    "        \n",
    "\n",
    "        self.nce_weight = tf.Variable(tf.truncated_normal([VOCAB_SIZE,EMBED_SIZE]),\n",
    "                                name='nce_weight')\n",
    "        self.nce_bias = tf.Variable(tf.zeros([VOCAB_SIZE]),name='nce_bias')\n",
    "        \n",
    "        self.loss = tf.reduce_mean(tf.nn.nce_loss(weights=self.nce_weight,\n",
    "                                            biases=self.nce_bias,\n",
    "                                            labels=self.target_words,\n",
    "                                            inputs=self.embed,\n",
    "                                            num_sampled=NUM_SAMPLED,\n",
    "                                            num_classes=VOCAB_SIZE),\n",
    "                             name='loss')\n",
    "             \n",
    "    def _create_optimizer(self):\n",
    "        \"\"\" Step 5: define optimizer \"\"\"         \n",
    "        self.optimizer = tf.train.GradientDescentOptimizer(LEARNING_RATE).minimize(self.loss)\n",
    "        \n",
    "    \n",
    "    def run_epoch(self,batch_gen):\n",
    "        with tf.Session() as sess:\n",
    "            sess.run(tf.global_variables_initializer())\n",
    "\n",
    "            total_loss = 0.0 # we use this to calculate late average loss in the last SKIP_STEP steps\n",
    "            writer = tf.summary.FileWriter('./my_graph/word2vec/', sess.graph)\n",
    "            writer.add_graph(sess.graph)\n",
    "            for index in range(NUM_TRAIN_STEPS):\n",
    "                centers, targets = next(batch_gen)\n",
    "                loss_batch, _ = sess.run([self.loss, self.optimizer], \n",
    "                                            feed_dict={self.center_words: centers, self.target_words: targets})\n",
    "                total_loss += loss_batch\n",
    "                if (index + 1) % SKIP_STEP == 0:\n",
    "                    print('Average loss at step {}: {:5.1f}'.format(index, total_loss / SKIP_STEP))\n",
    "                    total_loss = 0.0\n",
    "            writer.close()"
   ]
  },
  {
   "cell_type": "code",
   "execution_count": 24,
   "metadata": {
    "collapsed": false
   },
   "outputs": [
    {
     "name": "stdout",
     "output_type": "stream",
     "text": [
      "Dataset ready\n",
      "Average loss at step 1999: 132.6\n",
      "Average loss at step 3999:  62.8\n",
      "Average loss at step 5999:  40.8\n",
      "Average loss at step 7999:  28.7\n",
      "Average loss at step 9999:  22.1\n"
     ]
    }
   ],
   "source": [
    "def main():\n",
    "    batch_gen = process_data(VOCAB_SIZE, BATCH_SIZE, SKIP_WINDOW)\n",
    "    model = SkipGramModel()\n",
    "    model.run_epoch(batch_gen)\n",
    "\n",
    "if __name__ == '__main__':\n",
    "    main()"
   ]
  },
  {
   "cell_type": "code",
   "execution_count": null,
   "metadata": {
    "collapsed": true
   },
   "outputs": [],
   "source": []
  }
 ],
 "metadata": {
  "kernelspec": {
   "display_name": "Python 3",
   "language": "python",
   "name": "python3"
  },
  "language_info": {
   "codemirror_mode": {
    "name": "ipython",
    "version": 3
   },
   "file_extension": ".py",
   "mimetype": "text/x-python",
   "name": "python",
   "nbconvert_exporter": "python",
   "pygments_lexer": "ipython3",
   "version": "3.5.1"
  }
 },
 "nbformat": 4,
 "nbformat_minor": 0
}
