{
 "cells": [
  {
   "cell_type": "code",
   "execution_count": 1,
   "metadata": {
    "collapsed": true
   },
   "outputs": [],
   "source": [
    "from konlpy.tag import Mecab\n",
    "import gensim\n",
    "import numpy as np\n",
    "import pickle\n",
    "\n",
    "tag = Mecab()"
   ]
  },
  {
   "cell_type": "markdown",
   "metadata": {},
   "source": [
    "# 데이터 로드 "
   ]
  },
  {
   "cell_type": "code",
   "execution_count": 2,
   "metadata": {
    "collapsed": true
   },
   "outputs": [],
   "source": [
    "lines=[]\n",
    "with open('./data/recipeCorpus10000.txt', 'r', encoding=\"utf-8\") as f: \n",
    "    reader = f.readlines()\n",
    "    for row in reader:\n",
    "        lines.append(row)"
   ]
  },
  {
   "cell_type": "code",
   "execution_count": 3,
   "metadata": {
    "collapsed": true
   },
   "outputs": [],
   "source": [
    "lines = [l.split('\\t')[1].strip() for l in lines]"
   ]
  },
  {
   "cell_type": "code",
   "execution_count": 4,
   "metadata": {
    "collapsed": false
   },
   "outputs": [
    {
     "data": {
      "text/plain": [
       "'쌀을 씻어 분 정도 물에 불려둔다 멥쌀과 찹쌀을 의 비율로 사용하면 좋습니다 뚱이랑뚱 현미랑 적미랑 흑미랑 섞으면 더 예뻐요 작은뭉치 쌀을 씻어 분 정도 물에 불려둔다 개 은행은 볶아 껍질을 벗긴다 불을 중약불로 줄인다음 물엿이나 올리고당을 수저 넣고 같이 볶아주면 껍질이 쉽게 벗겨집니다 그린씨엘 끓는 물에 데치는데 국자를 둥글게 밀어주면 껍질이 벗겨져요 기름기 없는 은행이 되요 밥심은국력 볶으면서 물엿을 조금 넣어서 주걱이나 숫가락 등으로 저어주면 잘 벗겨집니다 그린씨엘 개 밤은 껍질을 벗기고 대추는 깨끗이 씻어둔다 밤은 미리 껍질을 벗기면 색이 변해요 물에 담가 두세요 애빼시 대추는 나중에 이 상하지 않게 씨를 빼놓으세요 생강 대추는 솔로 구석 구석 닦아주셔야 합니다 개 쌀과 밤을 넣고 밥을 짓다가 한소끔 끓어오르면 대추 은행 잣을 넣고 약한 불로 뜸을 들인다 압력밥솥 등을 사용하면 은행 잣은 같이 넣고 밥을 지어도 괜찮습니다 뚱이랑뚱 다시마 한조각을 넣어 같이 밥을 지어도 좋아요 곰택 대추는 먹기좋게 씨를 제거한 뒤에 넣어주세요 피안화 개 쓰기레시피 출처 월간 헬스조선 대추나 잣 호두 등의 견과류는 오랫동안 익힐 필요가 없다 대추는 무르거나 퍼질 수 있으므로 밥을 다 한 뒤 뜸들일 때 넣는다'"
      ]
     },
     "execution_count": 4,
     "metadata": {},
     "output_type": "execute_result"
    }
   ],
   "source": [
    "lines[0]"
   ]
  },
  {
   "cell_type": "code",
   "execution_count": 5,
   "metadata": {
    "collapsed": false
   },
   "outputs": [
    {
     "data": {
      "text/plain": [
       "11704"
      ]
     },
     "execution_count": 5,
     "metadata": {},
     "output_type": "execute_result"
    }
   ],
   "source": [
    "len(lines)"
   ]
  },
  {
   "cell_type": "markdown",
   "metadata": {},
   "source": [
    "# 토크나이징, POS 태깅"
   ]
  },
  {
   "cell_type": "code",
   "execution_count": 6,
   "metadata": {
    "collapsed": false
   },
   "outputs": [],
   "source": [
    "result=[]\n",
    "for sent in lines:\n",
    "    pos = tag.pos(sent)\n",
    "    pos = [(w,t) for w,t in pos if t not in ['SF', 'SE', 'SSO', 'SSC', 'SC','SY','SH','SN']]\n",
    "    result.append(pos)"
   ]
  },
  {
   "cell_type": "markdown",
   "metadata": {},
   "source": [
    "# 전체 토큰 "
   ]
  },
  {
   "cell_type": "code",
   "execution_count": 8,
   "metadata": {
    "collapsed": false
   },
   "outputs": [],
   "source": [
    "flatten = [word for word in sent for sent in result]"
   ]
  },
  {
   "cell_type": "code",
   "execution_count": 9,
   "metadata": {
    "collapsed": false
   },
   "outputs": [
    {
     "data": {
      "text/plain": [
       "4190032"
      ]
     },
     "execution_count": 9,
     "metadata": {},
     "output_type": "execute_result"
    }
   ],
   "source": [
    "len(flatten)"
   ]
  },
  {
   "cell_type": "markdown",
   "metadata": {},
   "source": [
    "# 토큰셋(중복제거) "
   ]
  },
  {
   "cell_type": "code",
   "execution_count": 10,
   "metadata": {
    "collapsed": true
   },
   "outputs": [],
   "source": [
    "checker=[]\n",
    "tokens = []\n",
    "for sentence in result:\n",
    "    for word in sentence:\n",
    "        if word[0] not in checker:\n",
    "            tokens.append(word)\n",
    "            checker.append(word[0])\n",
    "        else:\n",
    "            continue"
   ]
  },
  {
   "cell_type": "code",
   "execution_count": 17,
   "metadata": {
    "collapsed": false
   },
   "outputs": [],
   "source": [
    "assert len(tokens)==len(set(tokens))"
   ]
  },
  {
   "cell_type": "code",
   "execution_count": 18,
   "metadata": {
    "collapsed": false
   },
   "outputs": [
    {
     "data": {
      "text/plain": [
       "21542"
      ]
     },
     "execution_count": 18,
     "metadata": {},
     "output_type": "execute_result"
    }
   ],
   "source": [
    "len(set(tokens))"
   ]
  },
  {
   "cell_type": "markdown",
   "metadata": {},
   "source": [
    "# 트레이닝 with gensim "
   ]
  },
  {
   "cell_type": "code",
   "execution_count": 19,
   "metadata": {
    "collapsed": true
   },
   "outputs": [],
   "source": [
    "train_set = [[word[0] for word in sent] for sent in result]"
   ]
  },
  {
   "cell_type": "code",
   "execution_count": 22,
   "metadata": {
    "collapsed": false
   },
   "outputs": [],
   "source": [
    "model = gensim.models.Word2Vec(train_set, size=100, window=5, min_count=5, workers=4)"
   ]
  },
  {
   "cell_type": "code",
   "execution_count": 24,
   "metadata": {
    "collapsed": false
   },
   "outputs": [
    {
     "data": {
      "text/plain": [
       "[('은지', 0.6462485790252686),\n",
       " ('묵', 0.6373645067214966),\n",
       " ('배추김치', 0.5908721089363098),\n",
       " ('콩나물', 0.5432823896408081),\n",
       " ('숙주', 0.5427047610282898),\n",
       " ('배추', 0.5270323157310486),\n",
       " ('무', 0.5026322603225708),\n",
       " ('야채', 0.498574435710907),\n",
       " ('부추', 0.4957957863807678),\n",
       " ('양배추', 0.4836048185825348)]"
      ]
     },
     "execution_count": 24,
     "metadata": {},
     "output_type": "execute_result"
    }
   ],
   "source": [
    "model.most_similar('김치')"
   ]
  },
  {
   "cell_type": "code",
   "execution_count": 25,
   "metadata": {
    "collapsed": true
   },
   "outputs": [],
   "source": [
    "model.save('./model/recipe_word.model')"
   ]
  },
  {
   "cell_type": "markdown",
   "metadata": {},
   "source": [
    "# 토큰-임베딩 "
   ]
  },
  {
   "cell_type": "code",
   "execution_count": 26,
   "metadata": {
    "collapsed": true
   },
   "outputs": [],
   "source": [
    "vocabs=[]\n",
    "vectors=[]\n",
    "for token in tokens:\n",
    "    try:\n",
    "        vectors.append(model[token[0]]) # 모델에 속하는 토큰만\n",
    "        vocabs.append(token)\n",
    "    except:\n",
    "        continue"
   ]
  },
  {
   "cell_type": "code",
   "execution_count": 27,
   "metadata": {
    "collapsed": false
   },
   "outputs": [
    {
     "name": "stdout",
     "output_type": "stream",
     "text": [
      "('쌀', 'NNG') [-2.04397917  0.96544164 -0.14516188  1.50539935 -1.05788374  0.44640496\n",
      "  0.18749818  0.11738808 -0.75119454  0.89823908  0.06348223  1.05034459\n",
      " -0.27899766 -0.29018766  0.60359925  0.91184515  1.57913589 -0.53638148\n",
      "  0.45544636  0.05749752 -1.10168087 -0.41091633  0.80956733  0.55120158\n",
      "  0.20780084 -1.29290891  0.56177211  0.54327834 -0.26287711 -2.49288464\n",
      "  0.70417303 -1.05847371  0.48173672  0.95853168  0.21826182  0.50210047\n",
      "  0.08014657  1.57846808 -2.16626525  0.26240197  2.14893842  0.00462182\n",
      " -0.76224536 -0.2804856  -0.68401283  0.57711178 -0.12922218  0.04042026\n",
      "  0.59521914 -0.61784685 -0.59830791 -1.51832211 -0.41874015  1.43858266\n",
      "  1.24338293  0.32604814 -1.15758073 -0.09522968 -1.17174768 -1.62155104\n",
      " -0.3288025  -0.94366229  0.57225376 -1.33341432 -0.53292251 -1.39110339\n",
      "  0.83840698  0.02797502  0.69429368 -1.93177652  0.65214753  2.32315993\n",
      " -0.96666676  0.64768177  2.43960953 -0.30009192  0.0061374  -0.5679965\n",
      " -1.30592763 -0.00834877  0.75775582  0.25275952 -0.67086613  0.05795727\n",
      " -0.1724613  -0.26405922 -0.73488688 -0.52105522 -1.68558121 -0.0033101\n",
      " -0.9317506   0.7277022  -0.8889668   0.66227448 -0.25009367  0.55876821\n",
      "  2.31455469  0.02193033  0.99869579  0.91086161]\n"
     ]
    }
   ],
   "source": [
    "print(vocabs[0],vectors[0])"
   ]
  },
  {
   "cell_type": "code",
   "execution_count": 32,
   "metadata": {
    "collapsed": false
   },
   "outputs": [],
   "source": [
    "embeddings = np.vstack(vectors)"
   ]
  },
  {
   "cell_type": "code",
   "execution_count": 33,
   "metadata": {
    "collapsed": false
   },
   "outputs": [
    {
     "data": {
      "text/plain": [
       "9564"
      ]
     },
     "execution_count": 33,
     "metadata": {},
     "output_type": "execute_result"
    }
   ],
   "source": [
    "len(embeddings)"
   ]
  },
  {
   "cell_type": "code",
   "execution_count": 34,
   "metadata": {
    "collapsed": false
   },
   "outputs": [
    {
     "data": {
      "text/plain": [
       "(9564, 100)"
      ]
     },
     "execution_count": 34,
     "metadata": {},
     "output_type": "execute_result"
    }
   ],
   "source": [
    "embeddings.shape"
   ]
  },
  {
   "cell_type": "code",
   "execution_count": 35,
   "metadata": {
    "collapsed": false
   },
   "outputs": [
    {
     "data": {
      "text/plain": [
       "9564"
      ]
     },
     "execution_count": 35,
     "metadata": {},
     "output_type": "execute_result"
    }
   ],
   "source": [
    "len(vocabs)"
   ]
  },
  {
   "cell_type": "code",
   "execution_count": 36,
   "metadata": {
    "collapsed": true
   },
   "outputs": [],
   "source": [
    "pickle.dump(embeddings, open('./data/embedding.p','wb'))\n",
    "pickle.dump(vocabs, open('./data/vocab.p','wb'))"
   ]
  },
  {
   "cell_type": "code",
   "execution_count": null,
   "metadata": {
    "collapsed": true
   },
   "outputs": [],
   "source": []
  }
 ],
 "metadata": {
  "kernelspec": {
   "display_name": "Python 3",
   "language": "python",
   "name": "python3"
  },
  "language_info": {
   "codemirror_mode": {
    "name": "ipython",
    "version": 3
   },
   "file_extension": ".py",
   "mimetype": "text/x-python",
   "name": "python",
   "nbconvert_exporter": "python",
   "pygments_lexer": "ipython3",
   "version": "3.4.3"
  }
 },
 "nbformat": 4,
 "nbformat_minor": 0
}
