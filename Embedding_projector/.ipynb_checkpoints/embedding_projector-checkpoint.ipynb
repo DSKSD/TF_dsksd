{
 "cells": [
  {
   "cell_type": "code",
   "execution_count": 1,
   "metadata": {
    "collapsed": true
   },
   "outputs": [],
   "source": [
    "from konlpy.tag import Mecab\n",
    "import gensim\n",
    "import numpy as np\n",
    "import pickle\n",
    "\n",
    "tag = Mecab()"
   ]
  },
  {
   "cell_type": "markdown",
   "metadata": {},
   "source": [
    "# 데이터 로드 "
   ]
  },
  {
   "cell_type": "code",
   "execution_count": 2,
   "metadata": {
    "collapsed": true
   },
   "outputs": [],
   "source": [
    "lines=[]\n",
    "with open('./data/recipeCorpus10000.txt', 'r', encoding=\"utf-8\") as f: \n",
    "    reader = f.readlines()\n",
    "    for row in reader:\n",
    "        lines.append(row)"
   ]
  },
  {
   "cell_type": "code",
   "execution_count": 3,
   "metadata": {
    "collapsed": false
   },
   "outputs": [
    {
     "data": {
      "text/plain": [
       "11704"
      ]
     },
     "execution_count": 3,
     "metadata": {},
     "output_type": "execute_result"
    }
   ],
   "source": [
    "len(lines)"
   ]
  },
  {
   "cell_type": "code",
   "execution_count": 4,
   "metadata": {
    "collapsed": false
   },
   "outputs": [
    {
     "data": {
      "text/plain": [
       "'\\t쌀을 씻어 분 정도 물에 불려둔다 멥쌀과 찹쌀을 의 비율로 사용하면 좋습니다 뚱이랑뚱 현미랑 적미랑 흑미랑 섞으면 더 예뻐요 작은뭉치 쌀을 씻어 분 정도 물에 불려둔다 개 은행은 볶아 껍질을 벗긴다 불을 중약불로 줄인다음 물엿이나 올리고당을 수저 넣고 같이 볶아주면 껍질이 쉽게 벗겨집니다 그린씨엘 끓는 물에 데치는데 국자를 둥글게 밀어주면 껍질이 벗겨져요 기름기 없는 은행이 되요 밥심은국력 볶으면서 물엿을 조금 넣어서 주걱이나 숫가락 등으로 저어주면 잘 벗겨집니다 그린씨엘 개 밤은 껍질을 벗기고 대추는 깨끗이 씻어둔다 밤은 미리 껍질을 벗기면 색이 변해요 물에 담가 두세요 애빼시 대추는 나중에 이 상하지 않게 씨를 빼놓으세요 생강 대추는 솔로 구석 구석 닦아주셔야 합니다 개 쌀과 밤을 넣고 밥을 짓다가 한소끔 끓어오르면 대추 은행 잣을 넣고 약한 불로 뜸을 들인다 압력밥솥 등을 사용하면 은행 잣은 같이 넣고 밥을 지어도 괜찮습니다 뚱이랑뚱 다시마 한조각을 넣어 같이 밥을 지어도 좋아요 곰택 대추는 먹기좋게 씨를 제거한 뒤에 넣어주세요 피안화 개 쓰기레시피 출처 월간 헬스조선 대추나 잣 호두 등의 견과류는 오랫동안 익힐 필요가 없다 대추는 무르거나 퍼질 수 있으므로 밥을 다 한 뒤 뜸들일 때 넣는다 \\t\\n'"
      ]
     },
     "execution_count": 4,
     "metadata": {},
     "output_type": "execute_result"
    }
   ],
   "source": [
    "lines[0]"
   ]
  },
  {
   "cell_type": "code",
   "execution_count": 5,
   "metadata": {
    "collapsed": true
   },
   "outputs": [],
   "source": [
    "lines = [l.split('\\t')[1].strip() for l in lines]"
   ]
  },
  {
   "cell_type": "code",
   "execution_count": 7,
   "metadata": {
    "collapsed": false
   },
   "outputs": [
    {
     "data": {
      "text/plain": [
       "622"
      ]
     },
     "execution_count": 7,
     "metadata": {},
     "output_type": "execute_result"
    }
   ],
   "source": [
    "len(lines[0])"
   ]
  },
  {
   "cell_type": "code",
   "execution_count": 8,
   "metadata": {
    "collapsed": false
   },
   "outputs": [
    {
     "data": {
      "text/plain": [
       "[('오늘', 'MAG'),\n",
       " ('스터디', 'NNP'),\n",
       " ('에', 'JKB'),\n",
       " ('정말', 'MAG'),\n",
       " ('많', 'VA'),\n",
       " ('은', 'ETM'),\n",
       " ('사람', 'NNG'),\n",
       " ('들', 'XSN'),\n",
       " ('이', 'JKS'),\n",
       " ('왔', 'VV+EP'),\n",
       " ('군요', 'EF'),\n",
       " ('.', 'SF')]"
      ]
     },
     "execution_count": 8,
     "metadata": {},
     "output_type": "execute_result"
    }
   ],
   "source": [
    "tag.pos(\"오늘 스터디에 정말 많은 사람들이 왔군요.\")"
   ]
  },
  {
   "cell_type": "markdown",
   "metadata": {},
   "source": [
    "# 토크나이징, POS 태깅"
   ]
  },
  {
   "cell_type": "code",
   "execution_count": 9,
   "metadata": {
    "collapsed": false
   },
   "outputs": [],
   "source": [
    "result=[]\n",
    "for sent in lines:\n",
    "    pos = tag.pos(sent)\n",
    "    pos = [(w,t) for w,t in pos if t not in ['SF', 'SE', 'SSO', 'SSC', 'SC','SY','SH','SN']]\n",
    "    result.append(pos)"
   ]
  },
  {
   "cell_type": "code",
   "execution_count": 11,
   "metadata": {
    "collapsed": false
   },
   "outputs": [
    {
     "data": {
      "text/plain": [
       "310"
      ]
     },
     "execution_count": 11,
     "metadata": {},
     "output_type": "execute_result"
    }
   ],
   "source": [
    "len(result[0])"
   ]
  },
  {
   "cell_type": "markdown",
   "metadata": {},
   "source": [
    "# 전체 토큰 "
   ]
  },
  {
   "cell_type": "code",
   "execution_count": 12,
   "metadata": {
    "collapsed": false
   },
   "outputs": [],
   "source": [
    "flatten = [word for word in sent for sent in result]"
   ]
  },
  {
   "cell_type": "code",
   "execution_count": 13,
   "metadata": {
    "collapsed": false
   },
   "outputs": [
    {
     "data": {
      "text/plain": [
       "4190032"
      ]
     },
     "execution_count": 13,
     "metadata": {},
     "output_type": "execute_result"
    }
   ],
   "source": [
    "len(flatten)"
   ]
  },
  {
   "cell_type": "markdown",
   "metadata": {},
   "source": [
    "토큰, [임베딩 벡터]"
   ]
  },
  {
   "cell_type": "markdown",
   "metadata": {},
   "source": [
    "# 토큰셋(중복제거) "
   ]
  },
  {
   "cell_type": "code",
   "execution_count": 14,
   "metadata": {
    "collapsed": true
   },
   "outputs": [],
   "source": [
    "checker=[]\n",
    "tokens = []\n",
    "for sentence in result:\n",
    "    for word in sentence:\n",
    "        if word[0] not in checker:\n",
    "            tokens.append(word)\n",
    "            checker.append(word[0])\n",
    "        else:\n",
    "            continue"
   ]
  },
  {
   "cell_type": "code",
   "execution_count": 15,
   "metadata": {
    "collapsed": false
   },
   "outputs": [],
   "source": [
    "assert len(tokens)==len(set(tokens))"
   ]
  },
  {
   "cell_type": "code",
   "execution_count": 16,
   "metadata": {
    "collapsed": false
   },
   "outputs": [
    {
     "data": {
      "text/plain": [
       "21542"
      ]
     },
     "execution_count": 16,
     "metadata": {},
     "output_type": "execute_result"
    }
   ],
   "source": [
    "len(set(tokens))"
   ]
  },
  {
   "cell_type": "markdown",
   "metadata": {},
   "source": [
    "# 트레이닝 with gensim "
   ]
  },
  {
   "cell_type": "code",
   "execution_count": 18,
   "metadata": {
    "collapsed": true
   },
   "outputs": [],
   "source": [
    "train_set = [[word[0] for word in sent] for sent in result]"
   ]
  },
  {
   "cell_type": "code",
   "execution_count": 20,
   "metadata": {
    "collapsed": false
   },
   "outputs": [],
   "source": [
    "model = gensim.models.Word2Vec(train_set, size=100, window=5, min_count=5, workers=4)"
   ]
  },
  {
   "cell_type": "code",
   "execution_count": 25,
   "metadata": {
    "collapsed": false
   },
   "outputs": [
    {
     "data": {
      "text/plain": [
       "[('목살', 0.7538810968399048),\n",
       " ('대패', 0.7310912013053894),\n",
       " ('등심', 0.6383931636810303),\n",
       " ('돼지고기', 0.6111242175102234),\n",
       " ('항정살', 0.6014776825904846),\n",
       " ('돼지', 0.5907160043716431),\n",
       " ('불고기', 0.5741698145866394),\n",
       " ('소고기', 0.5738806128501892),\n",
       " ('차돌박이', 0.5449998378753662),\n",
       " ('소불고기', 0.5357884168624878)]"
      ]
     },
     "execution_count": 25,
     "metadata": {},
     "output_type": "execute_result"
    }
   ],
   "source": [
    "model.most_similar('삼겹살')"
   ]
  },
  {
   "cell_type": "code",
   "execution_count": 25,
   "metadata": {
    "collapsed": true
   },
   "outputs": [],
   "source": [
    "model.save('./model/recipe_word.model')"
   ]
  },
  {
   "cell_type": "markdown",
   "metadata": {},
   "source": [
    "# 토큰-임베딩 "
   ]
  },
  {
   "cell_type": "code",
   "execution_count": 26,
   "metadata": {
    "collapsed": true
   },
   "outputs": [],
   "source": [
    "vocabs=[]\n",
    "vectors=[]\n",
    "for token in tokens:\n",
    "    try:\n",
    "        vectors.append(model[token[0]]) # 모델에 속하는 토큰만\n",
    "        vocabs.append(token)\n",
    "    except:\n",
    "        continue"
   ]
  },
  {
   "cell_type": "code",
   "execution_count": 28,
   "metadata": {
    "collapsed": false
   },
   "outputs": [
    {
     "name": "stdout",
     "output_type": "stream",
     "text": [
      "('을', 'JKO') [-0.15351743 -0.5673871  -1.35040629  0.02119107  1.32067847 -0.03277163\n",
      "  2.18161631 -2.06928086  1.24967408 -1.77841485 -1.79912281 -0.31298959\n",
      " -0.57342303 -1.40690947  1.47323     0.26708046  0.41533598  0.15741137\n",
      "  1.06359458 -1.50867939  0.09736679 -0.86795682  1.08756697  0.108565\n",
      "  0.2885941   2.3903265   2.84341168 -0.67114085 -0.83127189 -0.34985358\n",
      "  0.36130831 -1.68415499  0.0882728   0.83317137  1.84170449  0.63948292\n",
      " -2.20809507 -1.48775518  0.48830619 -0.32337815  0.10197933  0.33678985\n",
      " -0.25454366  2.44785547  1.43768191 -1.37460232  0.15490089  0.92283261\n",
      "  1.3055439  -0.80971014 -1.72503436  0.34418759  0.84837615 -1.11416233\n",
      "  2.02441478  0.59666657 -0.79098535 -0.75933033  0.83015281  0.88705564\n",
      " -2.15289879  0.17072554 -0.78082836  1.99181521 -0.45162728  0.44078779\n",
      " -2.16770077 -1.69203222  0.2135798   0.76926595  1.77603221  2.66130662\n",
      " -0.77504885  0.15062456 -1.5306865  -1.32600451  1.28323519  1.01263094\n",
      "  0.69775397 -1.19025648  2.71076298 -1.04365957 -0.81354308 -2.01799726\n",
      "  1.97352743  1.45987868  0.69889975  0.89433283 -1.3495183   0.61473745\n",
      "  2.07325077 -2.58689117  2.58886337 -0.13906313  0.17810033 -1.26799393\n",
      "  1.31244719  0.87936419 -0.99210244 -0.09847575]\n"
     ]
    }
   ],
   "source": [
    "print(vocabs[1],vectors[1])"
   ]
  },
  {
   "cell_type": "code",
   "execution_count": 29,
   "metadata": {
    "collapsed": false
   },
   "outputs": [],
   "source": [
    "embeddings = np.vstack(vectors)"
   ]
  },
  {
   "cell_type": "code",
   "execution_count": 30,
   "metadata": {
    "collapsed": false
   },
   "outputs": [
    {
     "data": {
      "text/plain": [
       "9564"
      ]
     },
     "execution_count": 30,
     "metadata": {},
     "output_type": "execute_result"
    }
   ],
   "source": [
    "len(embeddings)"
   ]
  },
  {
   "cell_type": "code",
   "execution_count": 31,
   "metadata": {
    "collapsed": false
   },
   "outputs": [
    {
     "data": {
      "text/plain": [
       "(9564, 100)"
      ]
     },
     "execution_count": 31,
     "metadata": {},
     "output_type": "execute_result"
    }
   ],
   "source": [
    "embeddings.shape"
   ]
  },
  {
   "cell_type": "code",
   "execution_count": 32,
   "metadata": {
    "collapsed": false
   },
   "outputs": [
    {
     "data": {
      "text/plain": [
       "9564"
      ]
     },
     "execution_count": 32,
     "metadata": {},
     "output_type": "execute_result"
    }
   ],
   "source": [
    "len(vocabs)"
   ]
  },
  {
   "cell_type": "code",
   "execution_count": 33,
   "metadata": {
    "collapsed": true
   },
   "outputs": [],
   "source": [
    "pickle.dump(embeddings, open('./data/embedding.p','wb'))\n",
    "pickle.dump(vocabs, open('./data/vocab.p','wb'))"
   ]
  },
  {
   "cell_type": "code",
   "execution_count": null,
   "metadata": {
    "collapsed": true
   },
   "outputs": [],
   "source": []
  }
 ],
 "metadata": {
  "kernelspec": {
   "display_name": "Python 3",
   "language": "python",
   "name": "python3"
  },
  "language_info": {
   "codemirror_mode": {
    "name": "ipython",
    "version": 3
   },
   "file_extension": ".py",
   "mimetype": "text/x-python",
   "name": "python",
   "nbconvert_exporter": "python",
   "pygments_lexer": "ipython3",
   "version": "3.4.3"
  }
 },
 "nbformat": 4,
 "nbformat_minor": 0
}
