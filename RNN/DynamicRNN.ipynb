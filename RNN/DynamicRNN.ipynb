{
 "cells": [
  {
   "cell_type": "code",
   "execution_count": 1,
   "metadata": {
    "collapsed": true,
    "deletable": true,
    "editable": true
   },
   "outputs": [],
   "source": [
    "import tensorflow as tf\n",
    "import numpy as np"
   ]
  },
  {
   "cell_type": "code",
   "execution_count": 2,
   "metadata": {
    "collapsed": true,
    "deletable": true,
    "editable": true
   },
   "outputs": [],
   "source": [
    "num_arr = ['1','2','3','4','5','6','7','8','9','0']\n",
    "num_dic = {n : i for i,n in enumerate(num_arr)}\n",
    "dic_len = len(num_dic)"
   ]
  },
  {
   "cell_type": "code",
   "execution_count": 4,
   "metadata": {
    "collapsed": true,
    "deletable": true,
    "editable": true
   },
   "outputs": [],
   "source": [
    "seq_data = ['1234','2345','3456','4567','5678','6789','7890']\n",
    "seq_data2 = ['123','234','345','456','567','678','789','890']"
   ]
  },
  {
   "cell_type": "code",
   "execution_count": 5,
   "metadata": {
    "collapsed": true,
    "deletable": true,
    "editable": true
   },
   "outputs": [],
   "source": [
    "def one_hot_seq(seq_data):\n",
    "    x_batch = []\n",
    "    y_batch = []\n",
    "    for seq in seq_data:\n",
    "        x_data = [num_dic[n] for n in seq[:-1]]\n",
    "        y_data = num_dic[seq[-1]]\n",
    "        x_batch.append(np.eye(dic_len)[x_data])\n",
    "        y_batch.append([y_data])\n",
    "        \n",
    "    return x_batch, y_batch"
   ]
  },
  {
   "cell_type": "code",
   "execution_count": 11,
   "metadata": {
    "collapsed": true,
    "deletable": true,
    "editable": true
   },
   "outputs": [],
   "source": [
    "n_input = 10\n",
    "n_classes = 10\n",
    "n_hidden = 128\n",
    "n_layers = 3"
   ]
  },
  {
   "cell_type": "code",
   "execution_count": 12,
   "metadata": {
    "collapsed": true,
    "deletable": true,
    "editable": true
   },
   "outputs": [],
   "source": [
    "X = tf.placeholder(tf.float32, [None,None, n_input])\n",
    "Y = tf.placeholder(tf.int32, [None,1])\n",
    "W = tf.Variable(tf.random_normal([n_hidden, n_classes]))\n",
    "b = tf.Variable(tf.random_normal([n_classes]))"
   ]
  },
  {
   "cell_type": "code",
   "execution_count": 13,
   "metadata": {
    "collapsed": true,
    "deletable": true,
    "editable": true
   },
   "outputs": [],
   "source": [
    "X_t = tf.transpose(X, [1,0,2])"
   ]
  },
  {
   "cell_type": "markdown",
   "metadata": {
    "deletable": true,
    "editable": true
   },
   "source": [
    "[batch_size, n_steps, n_input] -> [n_steps, batch_size, n_input]"
   ]
  },
  {
   "cell_type": "code",
   "execution_count": 14,
   "metadata": {
    "collapsed": false,
    "deletable": true,
    "editable": true
   },
   "outputs": [],
   "source": [
    "cell = tf.contrib.rnn.BasicRNNCell(n_hidden)\n",
    "cell = tf.contrib.rnn.DropoutWrapper(cell, output_keep_prob=0.5)\n",
    "cell = tf.contrib.rnn.MultiRNNCell([cell]*n_layers)"
   ]
  },
  {
   "cell_type": "code",
   "execution_count": 15,
   "metadata": {
    "collapsed": false,
    "deletable": true,
    "editable": true
   },
   "outputs": [],
   "source": [
    "outputs, states = tf.nn.dynamic_rnn(cell,X_t,dtype=tf.float32,time_major=True)"
   ]
  },
  {
   "cell_type": "code",
   "execution_count": 16,
   "metadata": {
    "collapsed": false,
    "deletable": true,
    "editable": true
   },
   "outputs": [],
   "source": [
    "logits = tf.matmul(outputs[-1],W)+b"
   ]
  },
  {
   "cell_type": "code",
   "execution_count": 17,
   "metadata": {
    "collapsed": true,
    "deletable": true,
    "editable": true
   },
   "outputs": [],
   "source": [
    "labels = tf.reshape(Y,[-1])"
   ]
  },
  {
   "cell_type": "code",
   "execution_count": 18,
   "metadata": {
    "collapsed": false,
    "deletable": true,
    "editable": true
   },
   "outputs": [],
   "source": [
    "cost = tf.reduce_mean(tf.nn.sparse_softmax_cross_entropy_with_logits(logits=logits,labels=labels))"
   ]
  },
  {
   "cell_type": "code",
   "execution_count": 19,
   "metadata": {
    "collapsed": true,
    "deletable": true,
    "editable": true
   },
   "outputs": [],
   "source": [
    "train_op = tf.train.RMSPropOptimizer(learning_rate=0.01).minimize(cost)"
   ]
  },
  {
   "cell_type": "code",
   "execution_count": 20,
   "metadata": {
    "collapsed": false,
    "deletable": true,
    "editable": true
   },
   "outputs": [],
   "source": [
    "#########\n",
    "# 결과 확인\n",
    "######\n",
    "# 테스트 데이터를 받아 결과를 예측해보는 함수\n",
    "def prediction(seq_data):\n",
    "    prediction = tf.cast(tf.argmax(logits, 1), tf.int32)\n",
    "    prediction_check = tf.equal(prediction, labels)\n",
    "    accuracy = tf.reduce_mean(tf.cast(prediction_check, tf.float32))\n",
    "\n",
    "    x_batch_t, y_batch_t = one_hot_seq(seq_data)\n",
    "    real, predict, accuracy_val = sess.run([labels, prediction, accuracy],\n",
    "                                           feed_dict={X: x_batch_t, Y: y_batch_t})\n",
    "\n",
    "    print(\"\\n=== 예측 결과 ===\")\n",
    "    print('순차열:', seq_data)\n",
    "    print('실제값:', [num_arr[i] for i in real])\n",
    "    print('예측값:', [num_arr[i] for i in predict])\n",
    "    print('정확도:', accuracy_val)"
   ]
  },
  {
   "cell_type": "code",
   "execution_count": 24,
   "metadata": {
    "collapsed": false,
    "deletable": true,
    "editable": true
   },
   "outputs": [
    {
     "name": "stdout",
     "output_type": "stream",
     "text": [
      "Epoch: 0001 cost = bucket[4] = 7.992703 bucket[3] = 4.474046\n",
      "Epoch: 0002 cost = bucket[4] = 4.535444 bucket[3] = 4.535411\n",
      "Epoch: 0003 cost = bucket[4] = 1.731096 bucket[3] = 2.134820\n",
      "Epoch: 0004 cost = bucket[4] = 2.357528 bucket[3] = 2.389493\n",
      "Epoch: 0005 cost = bucket[4] = 1.016439 bucket[3] = 1.696504\n",
      "Epoch: 0006 cost = bucket[4] = 0.842209 bucket[3] = 0.043311\n",
      "Epoch: 0007 cost = bucket[4] = 0.453393 bucket[3] = 0.242600\n",
      "Epoch: 0008 cost = bucket[4] = 0.079169 bucket[3] = 0.369865\n",
      "Epoch: 0009 cost = bucket[4] = 0.738299 bucket[3] = 0.894375\n",
      "Epoch: 0010 cost = bucket[4] = 0.788772 bucket[3] = 0.542474\n",
      "Epoch: 0011 cost = bucket[4] = 0.184362 bucket[3] = 0.573481\n",
      "Epoch: 0012 cost = bucket[4] = 0.089432 bucket[3] = 0.238450\n",
      "Epoch: 0013 cost = bucket[4] = 0.003757 bucket[3] = 0.119641\n",
      "Epoch: 0014 cost = bucket[4] = 0.346242 bucket[3] = 1.164445\n",
      "Epoch: 0015 cost = bucket[4] = 0.022629 bucket[3] = 0.000396\n",
      "Epoch: 0016 cost = bucket[4] = 0.008909 bucket[3] = 0.545011\n",
      "Epoch: 0017 cost = bucket[4] = 0.002082 bucket[3] = 0.113167\n",
      "Epoch: 0018 cost = bucket[4] = 0.000240 bucket[3] = 0.107263\n",
      "Epoch: 0019 cost = bucket[4] = 0.001574 bucket[3] = 0.008892\n",
      "Epoch: 0020 cost = bucket[4] = 0.003412 bucket[3] = 0.032051\n",
      "Epoch: 0021 cost = bucket[4] = 0.012451 bucket[3] = 0.002058\n",
      "Epoch: 0022 cost = bucket[4] = 0.003610 bucket[3] = 0.476271\n",
      "Epoch: 0023 cost = bucket[4] = 0.810560 bucket[3] = 0.005661\n",
      "Epoch: 0024 cost = bucket[4] = 0.742611 bucket[3] = 0.445587\n",
      "Epoch: 0025 cost = bucket[4] = 0.000010 bucket[3] = 0.005847\n",
      "Epoch: 0026 cost = bucket[4] = 0.000077 bucket[3] = 0.859371\n",
      "Epoch: 0027 cost = bucket[4] = 0.106182 bucket[3] = 0.035281\n",
      "Epoch: 0028 cost = bucket[4] = 0.000306 bucket[3] = 0.698540\n",
      "Epoch: 0029 cost = bucket[4] = 0.648382 bucket[3] = 0.030628\n",
      "Epoch: 0030 cost = bucket[4] = 0.000843 bucket[3] = 1.318902\n",
      "\n",
      "=== 예측 결과 ===\n",
      "순차열: ['123', '345', '789']\n",
      "실제값: ['3', '5', '9']\n",
      "예측값: ['3', '5', '9']\n",
      "정확도: 1.0\n",
      "\n",
      "=== 예측 결과 ===\n",
      "순차열: ['1234', '2345', '7890']\n",
      "실제값: ['4', '5', '0']\n",
      "예측값: ['7', '6', '0']\n",
      "정확도: 0.333333\n",
      "\n",
      "=== 예측 결과 ===\n",
      "순차열: ['23', '78', '90']\n",
      "실제값: ['3', '8', '0']\n",
      "예측값: ['3', '8', '0']\n",
      "정확도: 1.0\n",
      "\n",
      "=== 예측 결과 ===\n",
      "순차열: ['12345', '34567', '67890']\n",
      "실제값: ['5', '7', '0']\n",
      "예측값: ['5', '7', '0']\n",
      "정확도: 1.0\n"
     ]
    }
   ],
   "source": [
    "with tf.Session() as sess:\n",
    "    sess.run(tf.global_variables_initializer())\n",
    "    \n",
    "    x_batch, y_batch = one_hot_seq(seq_data)\n",
    "    x_batch2, y_batch2 = one_hot_seq(seq_data2)\n",
    "    \n",
    "    for epoch in range(30):\n",
    "        _, loss4 = sess.run([train_op, cost], feed_dict={X:x_batch,\n",
    "                                                         Y: y_batch})\n",
    "        _, loss3 = sess.run([train_op, cost], feed_dict={X:x_batch2, Y:y_batch2})\n",
    "        \n",
    "        print('Epoch:', '%04d' % (epoch+1), 'cost =',\\\n",
    "             'bucket[4] =', '{:.6f}'.format(loss4),\\\n",
    "             'bucket[3] =', '{:.6f}'.format(loss3))\n",
    "        \n",
    "    # 학습 데이터에 있던 시퀀스로 테스트\n",
    "    seq_data_test = ['123', '345', '789']\n",
    "    prediction(seq_data_test)\n",
    "\n",
    "    seq_data_test = ['1234', '2345', '7890']\n",
    "    prediction(seq_data_test)\n",
    "\n",
    "    # 학습시키지 않았던 시퀀스를 테스트 해 봅니다.\n",
    "    seq_data_test = ['23', '78', '90']\n",
    "    prediction(seq_data_test)\n",
    "\n",
    "    seq_data_test = ['12345', '34567', '67890']\n",
    "    prediction(seq_data_test)"
   ]
  },
  {
   "cell_type": "code",
   "execution_count": null,
   "metadata": {
    "collapsed": true,
    "deletable": true,
    "editable": true
   },
   "outputs": [],
   "source": []
  }
 ],
 "metadata": {
  "kernelspec": {
   "display_name": "Python 3",
   "language": "python",
   "name": "python3"
  },
  "language_info": {
   "codemirror_mode": {
    "name": "ipython",
    "version": 3
   },
   "file_extension": ".py",
   "mimetype": "text/x-python",
   "name": "python",
   "nbconvert_exporter": "python",
   "pygments_lexer": "ipython3",
   "version": "3.5.2"
  }
 },
 "nbformat": 4,
 "nbformat_minor": 0
}
