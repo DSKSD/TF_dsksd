{
 "cells": [
  {
   "cell_type": "code",
   "execution_count": 1,
   "metadata": {
    "collapsed": true
   },
   "outputs": [],
   "source": [
    "import tensorflow as tf\n",
    "import numpy as np\n",
    "from tensorflow.contrib.tensorboard.plugins import projector\n",
    "import os\n",
    "from process_data import process_data,download"
   ]
  },
  {
   "cell_type": "code",
   "execution_count": 2,
   "metadata": {
    "collapsed": true
   },
   "outputs": [],
   "source": [
    "VOCAB_SIZE = 50000\n",
    "BATCH_SIZE = 128\n",
    "EMBED_SIZE = 128 # dimension of the word embedding vectors\n",
    "SKIP_WINDOW = 1 # the context window\n",
    "NUM_SAMPLED = 64    # Number of negative examples to sample.\n",
    "LEARNING_RATE = 1.0\n",
    "NUM_TRAIN_STEPS = 10000\n",
    "WEIGHTS_FLD = 'processed/'\n",
    "SKIP_STEP = 2000 # how many steps to skip before reporting the loss"
   ]
  },
  {
   "cell_type": "markdown",
   "metadata": {},
   "source": [
    "# 클래스 형식 TF 코드 "
   ]
  },
  {
   "cell_type": "markdown",
   "metadata": {},
   "source": [
    "* FLAG로 config 받기\n",
    "* init으로 초기화 후, build model으로 연결할 것\n",
    "* train (or run_epoch) // test 함수를 따로 둘 것\n",
    "* summary로 텐서보드 사용하기\n",
    "* generator로 batch를 가져와서 epoch 돌도록 하기 (generator를 공부하기!)\n",
    "* save와 restore로 serving까지"
   ]
  },
  {
   "cell_type": "code",
   "execution_count": 3,
   "metadata": {
    "collapsed": true
   },
   "outputs": [],
   "source": [
    "class SkipGramModel:     \n",
    "    \"\"\" Build the graph for word2vec model \"\"\"     \n",
    "    def __init__(self, vocab_size, embed_size, batch_size, num_sampled, learning_rate):\n",
    "        self.vocab_size = vocab_size\n",
    "        self.embed_size = embed_size\n",
    "        self.batch_size = batch_size\n",
    "        self.num_sampled = num_sampled\n",
    "        self.lr = learning_rate\n",
    "        self.global_step = tf.Variable(0, dtype=tf.int32, trainable=False, name='global_step')\n",
    "\n",
    "    def _create_placeholders(self):\n",
    "        \"\"\" Step 1: define the placeholders for input and output \"\"\"\n",
    "        with tf.name_scope(\"data\"):\n",
    "            self.center_words = tf.placeholder(tf.int32, shape=[self.batch_size], name='center_words')\n",
    "            self.target_words = tf.placeholder(tf.int32, shape=[self.batch_size, 1], name='target_words')\n",
    "\n",
    "    def _create_embedding(self):\n",
    "        \"\"\" Step 2: define weights. In word2vec, it's actually the weights that we care about \"\"\"\n",
    "        # Assemble this part of the graph on the CPU. You can change it to GPU if you have GPU\n",
    "        with tf.device('/cpu:0'):\n",
    "            with tf.name_scope(\"embed\"):\n",
    "                self.embed_matrix = tf.Variable(tf.random_uniform([self.vocab_size, \n",
    "                                                                    self.embed_size], -1.0, 1.0), \n",
    "                                                                    name='embed_matrix')\n",
    "\n",
    "    def _create_loss(self):\n",
    "        \"\"\" Step 3 + 4: define the model + the loss function \"\"\"\n",
    "        with tf.device('/cpu:0'):\n",
    "            with tf.name_scope(\"loss\"):\n",
    "                # Step 3: define the inference\n",
    "                embed = tf.nn.embedding_lookup(self.embed_matrix, self.center_words, name='embed')\n",
    "\n",
    "                # Step 4: define loss function\n",
    "                # construct variables for NCE loss\n",
    "                nce_weight = tf.Variable(tf.truncated_normal([self.vocab_size, self.embed_size],\n",
    "                                                            stddev=1.0 / (self.embed_size ** 0.5)), \n",
    "                                                            name='nce_weight')\n",
    "                nce_bias = tf.Variable(tf.zeros([VOCAB_SIZE]), name='nce_bias')\n",
    "\n",
    "                # define loss function to be NCE loss function\n",
    "                self.loss = tf.reduce_mean(tf.nn.nce_loss(weights=nce_weight, \n",
    "                                                    biases=nce_bias, \n",
    "                                                    labels=self.target_words, \n",
    "                                                    inputs=embed, \n",
    "                                                    num_sampled=self.num_sampled, \n",
    "                                                    num_classes=self.vocab_size), name='loss')\n",
    "    def _create_optimizer(self):\n",
    "        \"\"\" Step 5: define optimizer \"\"\"\n",
    "        with tf.device('/cpu:0'):\n",
    "            self.optimizer = tf.train.GradientDescentOptimizer(self.lr).minimize(self.loss, \n",
    "                                                              global_step=self.global_step)\n",
    "\n",
    "    def _create_summaries(self):\n",
    "        with tf.name_scope(\"summaries\"):\n",
    "            tf.summary.scalar(\"loss\", self.loss)\n",
    "            tf.summary.histogram(\"histogram_loss\", self.loss)\n",
    "            # because you have several summaries, we should merge them all\n",
    "            # into one op to make it easier to manage\n",
    "            self.summary_op = tf.summary.merge_all()\n",
    "\n",
    "    def build_graph(self):\n",
    "        \"\"\" Build the graph for our model \"\"\"\n",
    "        self._create_placeholders()\n",
    "        self._create_embedding()\n",
    "        self._create_loss()\n",
    "        self._create_optimizer()\n",
    "        self._create_summaries()\n",
    "        \n",
    "    def train(self,batch_gen):\n",
    "        saver = tf.train.Saver() \n",
    "        # defaults to saving all variables - in this case embed_matrix, nce_weight, nce_bias\n",
    "\n",
    "        with tf.Session() as sess:\n",
    "            sess.run(tf.global_variables_initializer())\n",
    "            ckpt = tf.train.get_checkpoint_state(os.path.dirname('ckp/skip_gram/'))\n",
    "            # if that checkpoint exists, restore from checkpoint\n",
    "            \n",
    "            #print(ckpt.model_checkpoint_path)\n",
    "            if ckpt and ckpt.model_checkpoint_path:\n",
    "                saver.restore(sess, ckpt.model_checkpoint_path)\n",
    "                \n",
    "            total_loss = 0.0 # we use this to calculate late average loss in the last SKIP_STEP steps\n",
    "            writer = tf.summary.FileWriter('improved_graph/lr' + str(LEARNING_RATE), sess.graph)\n",
    "            for index in range(NUM_TRAIN_STEPS):\n",
    "                centers, targets = next(batch_gen)\n",
    "                loss_batch, _ = sess.run([self.loss, self.optimizer], \n",
    "                                            feed_dict={self.center_words: centers, self.target_words: targets})\n",
    "                #writer.add_summary(summary, global_step=index)\n",
    "                total_loss += loss_batch\n",
    "                if (index + 1) % SKIP_STEP == 0:\n",
    "                    print('Average loss at step {}: {:5.1f}'.format(index, total_loss / SKIP_STEP))\n",
    "                    total_loss = 0.0\n",
    "                    saver.save(sess, 'ckp/skip_gram/SK.model',index+1)\n",
    "                    \n",
    "           \n",
    "            writer.close()"
   ]
  },
  {
   "cell_type": "code",
   "execution_count": 3,
   "metadata": {
    "collapsed": false
   },
   "outputs": [
    {
     "name": "stdout",
     "output_type": "stream",
     "text": [
      "Dataset ready\n"
     ]
    }
   ],
   "source": [
    "batch_gen = process_data(VOCAB_SIZE, BATCH_SIZE, SKIP_WINDOW)"
   ]
  },
  {
   "cell_type": "code",
   "execution_count": 4,
   "metadata": {
    "collapsed": true
   },
   "outputs": [],
   "source": [
    "centers, _ = next(batch_gen)"
   ]
  },
  {
   "cell_type": "code",
   "execution_count": 7,
   "metadata": {
    "collapsed": false
   },
   "outputs": [
    {
     "data": {
      "text/plain": [
       "array([ 5236,  3082,  3082,    12,    12,     6,     6,   195,   195,\n",
       "           2,     2,  3137,  3137,    46,    46,    59,    59,   156,\n",
       "         156,   128,   128,   742,   742,   477,   477, 10588, 10588,\n",
       "         134,   134,     1,     1, 27511, 27511,     2,     2,     1,\n",
       "           1,   103,   103,   855,   855,     3,     3,     1,     1,\n",
       "       15111, 15111,     0,     0,     2,     2,     1,     1,   151,\n",
       "         151,   855,   855,  3582,  3582,     1,     1,   195,   195,\n",
       "          11,    11,   191,   191,    59,    59,     5,     5,     6,\n",
       "           6, 10730, 10730,   215,   215,     7,     7,  1326,  1326,\n",
       "         105,   105,   455,   455,    20,    20,    59,    59,  2732,\n",
       "        2732,   363,   363,     7,     7,  3676,  3676,     1,     1,\n",
       "         709,   709,     2,     2,   372,   372,    27,    27,    41,\n",
       "          41,    37,    37,    54,    54,   540,   540,    98,    98,\n",
       "          12,    12,     6,     6,  1424,  1424,  2759,  2759,    19,\n",
       "          19,   568], dtype=int32)"
      ]
     },
     "execution_count": 7,
     "metadata": {},
     "output_type": "execute_result"
    }
   ],
   "source": [
    "centers"
   ]
  },
  {
   "cell_type": "code",
   "execution_count": 4,
   "metadata": {
    "collapsed": false
   },
   "outputs": [
    {
     "name": "stdout",
     "output_type": "stream",
     "text": [
      "Dataset ready\n",
      "Average loss at step 1999: 113.1\n",
      "Average loss at step 3999:  52.5\n",
      "Average loss at step 5999:  33.4\n",
      "Average loss at step 7999:  23.8\n",
      "Average loss at step 9999:  17.4\n"
     ]
    }
   ],
   "source": [
    "def main():\n",
    "    model = SkipGramModel(VOCAB_SIZE, EMBED_SIZE, BATCH_SIZE, NUM_SAMPLED, LEARNING_RATE)\n",
    "    model.build_graph()\n",
    "    batch_gen = process_data(VOCAB_SIZE, BATCH_SIZE, SKIP_WINDOW)\n",
    "    model.train(batch_gen)\n",
    "\n",
    "\n",
    "if __name__ == '__main__':\n",
    "    main()"
   ]
  },
  {
   "cell_type": "markdown",
   "metadata": {},
   "source": [
    "# API "
   ]
  },
  {
   "cell_type": "markdown",
   "metadata": {},
   "source": [
    "#### tf.nn.embedding_lookup(params, ids, partition_strategy='mod', name=None, validate_indices=True, max_norm=None) "
   ]
  },
  {
   "cell_type": "markdown",
   "metadata": {},
   "source": [
    "먼저 임베딩 매트릭스 [Vocab size, Embedding size(dimension)] 를 Variable로 가지고 있어야 함..! 이 파라미터도 jointly 훈련시킬 수 있지만, pre_trained 된 매트릭스를 <strong>params</strong>으로 넣을 수도 있을 것. <strong>ids</strong>에는 {'vocab id' : 'vocab's embedding'}으로 넘길 수 있는 one-hot id 벡터가 들어갈 것. (Vocab size)만큼의"
   ]
  },
  {
   "cell_type": "markdown",
   "metadata": {},
   "source": [
    "#### tf.nn.nce_loss(weights, biases, labels, inputs, num_sampled, num_classes, ...)"
   ]
  },
  {
   "cell_type": "markdown",
   "metadata": {},
   "source": [
    "배치 사이즈 만큼의 negative sampling softmax 로 계산한 loss 리턴\n",
    "* weights는 embedding_matrix와 동일한 shape의 [Vocab D, Embedding D]의 nce weights\n",
    "* biases는 Vocab size만큼의 shape\n",
    "* labels이 배치사이즈 만큼의 현재 centor word로부터 나타나는 target_words\n",
    "* inputs은 배치사이즈 만큼의 centor words\n",
    "* num_sampled : negative sampling 갯수\n",
    "* num_classes :  전체 Vocab의 수"
   ]
  },
  {
   "cell_type": "code",
   "execution_count": null,
   "metadata": {
    "collapsed": true
   },
   "outputs": [],
   "source": []
  }
 ],
 "metadata": {
  "kernelspec": {
   "display_name": "Python 3",
   "language": "python",
   "name": "python3"
  },
  "language_info": {
   "codemirror_mode": {
    "name": "ipython",
    "version": 3
   },
   "file_extension": ".py",
   "mimetype": "text/x-python",
   "name": "python",
   "nbconvert_exporter": "python",
   "pygments_lexer": "ipython3",
   "version": "3.4.3"
  }
 },
 "nbformat": 4,
 "nbformat_minor": 2
}
