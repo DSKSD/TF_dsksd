{
 "cells": [
  {
   "cell_type": "code",
   "execution_count": 2,
   "metadata": {
    "collapsed": true
   },
   "outputs": [],
   "source": [
    "from PIL import Image\n",
    "import numpy as np\n",
    "import matplotlib.pyplot as plt\n",
    "import tensorflow as tf\n",
    "\n",
    "%matplotlib inline"
   ]
  },
  {
   "cell_type": "code",
   "execution_count": 3,
   "metadata": {
    "collapsed": true
   },
   "outputs": [],
   "source": [
    "IMAGE_PATH = '/Users/Chip/data/misc/'\n",
    "\n",
    "def get_image_binary(filename):\n",
    "    \"\"\" You can read in the image using tensorflow too, but it's a drag\n",
    "        since you have to create graphs. It's much easier using Pillow and NumPy\n",
    "    \"\"\"\n",
    "    image = Image.open(filename)\n",
    "    image = np.asarray(image, np.uint8)\n",
    "    shape = np.array(image.shape, np.int32)\n",
    "    return shape.tobytes(), image.tobytes() # convert image to raw data bytes in the array.\n",
    "\n",
    "def write_to_tfrecord(label, shape, binary_image, tfrecord_file):\n",
    "    \"\"\" This example is to write a sample to TFRecord file. If you want to write\n",
    "    more samples, just use a loop.\n",
    "    \"\"\"\n",
    "    writer = tf.python_io.TFRecordWriter(tfrecord_file)\n",
    "    # write label, shape, and image content to the TFRecord file\n",
    "    example = tf.train.Example(features=tf.train.Features(feature={\n",
    "                'label': tf.train.Feature(bytes_list=tf.train.BytesList(value=[label])),\n",
    "                'shape': tf.train.Feature(bytes_list=tf.train.BytesList(value=[shape])),\n",
    "                'image': tf.train.Feature(bytes_list=tf.train.BytesList(value=[binary_image]))\n",
    "                }))\n",
    "    writer.write(example.SerializeToString())\n",
    "    writer.close()\n",
    "\n",
    "def write_tfrecord(label, image_file, tfrecord_file):\n",
    "    shape, binary_image = get_image_binary(image_file)\n",
    "    write_to_tfrecord(label, shape, binary_image, tfrecord_file)\n",
    "\n",
    "def read_from_tfrecord(filenames):\n",
    "    tfrecord_file_queue = tf.train.string_input_producer(filenames, name='queue')\n",
    "    reader = tf.TFRecordReader()\n",
    "    _, tfrecord_serialized = reader.read(tfrecord_file_queue)\n",
    "\n",
    "    # label and image are stored as bytes but could be stored as \n",
    "    # int64 or float64 values in a serialized tf.Example protobuf.\n",
    "    tfrecord_features = tf.parse_single_example(tfrecord_serialized,\n",
    "                        features={\n",
    "                            'label': tf.FixedLenFeature([], tf.string),\n",
    "                            'shape': tf.FixedLenFeature([], tf.string),\n",
    "                            'image': tf.FixedLenFeature([], tf.string),\n",
    "                        }, name='features')\n",
    "    # image was saved as uint8, so we have to decode as uint8.\n",
    "    image = tf.decode_raw(tfrecord_features['image'], tf.uint8)\n",
    "    shape = tf.decode_raw(tfrecord_features['shape'], tf.int32)\n",
    "    # the image tensor is flattened out, so we have to reconstruct the shape\n",
    "    image = tf.reshape(image, shape)\n",
    "    label = tf.cast(tfrecord_features['label'], tf.string)\n",
    "    return label, shape, image\n",
    "\n",
    "def read_tfrecord(tfrecord_file):\n",
    "    label, shape, image = read_from_tfrecord([tfrecord_file])\n",
    "\n",
    "    with tf.Session() as sess:\n",
    "        coord = tf.train.Coordinator()\n",
    "        threads = tf.train.start_queue_runners(coord=coord)\n",
    "        label, image, shape = sess.run([label, image, shape])\n",
    "        coord.request_stop()\n",
    "        coord.join(threads)\n",
    "\n",
    "    # plt.imshow(image)\n",
    "    # plt.show() \n",
    "\n"
   ]
  },
  {
   "cell_type": "code",
   "execution_count": null,
   "metadata": {
    "collapsed": true
   },
   "outputs": [],
   "source": [
    "# assume the image has the label Chihuahua. \n",
    "# in practice, you'd want to use binary numbers for your labels to save space\n",
    "label = 'friday' \n",
    "image_file = IMAGE_PATH + 'friday.jpg'\n",
    "tfrecord_file = IMAGE_PATH + 'friday.tfrecord'\n",
    "write_tfrecord(label, image_file, tfrecord_file)\n",
    "read_tfrecord(tfrecord_file)"
   ]
  }
 ],
 "metadata": {
  "kernelspec": {
   "display_name": "Python 3",
   "language": "python",
   "name": "python3"
  },
  "language_info": {
   "codemirror_mode": {
    "name": "ipython",
    "version": 3
   },
   "file_extension": ".py",
   "mimetype": "text/x-python",
   "name": "python",
   "nbconvert_exporter": "python",
   "pygments_lexer": "ipython3",
   "version": "3.4.3"
  }
 },
 "nbformat": 4,
 "nbformat_minor": 0
}
