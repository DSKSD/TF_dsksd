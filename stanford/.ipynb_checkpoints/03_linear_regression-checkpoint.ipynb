{
 "cells": [
  {
   "cell_type": "code",
   "execution_count": 12,
   "metadata": {
    "collapsed": false
   },
   "outputs": [],
   "source": [
    "import numpy as np\n",
    "import matplotlib.pyplot as plt\n",
    "import tensorflow as tf\n",
    "import xlrd\n",
    "\n",
    "%matplotlib inline"
   ]
  },
  {
   "cell_type": "code",
   "execution_count": 3,
   "metadata": {
    "collapsed": true
   },
   "outputs": [],
   "source": [
    "DATA_FILE = 'data/fire_theft.xls'"
   ]
  },
  {
   "cell_type": "markdown",
   "metadata": {},
   "source": [
    "### 1. data load(.xls file) "
   ]
  },
  {
   "cell_type": "code",
   "execution_count": 4,
   "metadata": {
    "collapsed": true
   },
   "outputs": [],
   "source": [
    "book = xlrd.open_workbook(DATA_FILE, encoding_override=\"utf-8\")\n",
    "sheet = book.sheet_by_index(0)\n",
    "data = np.asarray([sheet.row_values(i) for i in range(1, sheet.nrows)])\n",
    "n_samples = sheet.nrows - 1"
   ]
  },
  {
   "cell_type": "markdown",
   "metadata": {},
   "source": [
    "sheet 객체를 불러올 수 있다. 다만 텐서로 처리하기 위해 np.array로 형변환한다"
   ]
  },
  {
   "cell_type": "markdown",
   "metadata": {},
   "source": [
    "### 2. 데이터를 feeding하기 위한 placeholder 선언"
   ]
  },
  {
   "cell_type": "code",
   "execution_count": 6,
   "metadata": {
    "collapsed": false
   },
   "outputs": [],
   "source": [
    "X = tf.placeholder(tf.float32, name='X')\n",
    "Y = tf.placeholder(tf.float32, name='Y')"
   ]
  },
  {
   "cell_type": "markdown",
   "metadata": {},
   "source": [
    "### 3. 최적화 시킬 변수 선언 "
   ]
  },
  {
   "cell_type": "code",
   "execution_count": 7,
   "metadata": {
    "collapsed": true
   },
   "outputs": [],
   "source": [
    "w = tf.Variable(0.0, name='weights')\n",
    "b = tf.Variable(0.0, name='bias')"
   ]
  },
  {
   "cell_type": "markdown",
   "metadata": {},
   "source": [
    "### 4. 모델 "
   ]
  },
  {
   "cell_type": "code",
   "execution_count": 8,
   "metadata": {
    "collapsed": true
   },
   "outputs": [],
   "source": [
    "Y_predicted = X*w + b"
   ]
  },
  {
   "cell_type": "markdown",
   "metadata": {},
   "source": [
    "### 5. loss function 및 optimizer"
   ]
  },
  {
   "cell_type": "code",
   "execution_count": 9,
   "metadata": {
    "collapsed": true
   },
   "outputs": [],
   "source": [
    "loss = tf.square(Y-Y_predicted,name='loss')\n",
    "optimizer = tf.train.GradientDescentOptimizer(\n",
    "                            learning_rate=0.001).minimize(loss)"
   ]
  },
  {
   "cell_type": "markdown",
   "metadata": {},
   "source": [
    "### 6. 트레이닝"
   ]
  },
  {
   "cell_type": "code",
   "execution_count": 11,
   "metadata": {
    "collapsed": false
   },
   "outputs": [
    {
     "name": "stdout",
     "output_type": "stream",
     "text": [
      "Epoch 0: 1.0\n",
      "Epoch 1: 1.0\n",
      "Epoch 2: 1.0\n",
      "Epoch 3: 1.0\n",
      "Epoch 4: 1.0\n",
      "Epoch 5: 1.0\n",
      "Epoch 6: 1.0\n",
      "Epoch 7: 1.0\n",
      "Epoch 8: 1.0\n",
      "Epoch 9: 1.0\n",
      "Epoch 10: 1.0\n",
      "Epoch 11: 1.0\n",
      "Epoch 12: 1.0\n",
      "Epoch 13: 1.0\n",
      "Epoch 14: 1.0\n",
      "Epoch 15: 1.0\n",
      "Epoch 16: 1.0\n",
      "Epoch 17: 1.0\n",
      "Epoch 18: 1.0\n",
      "Epoch 19: 1.0\n",
      "Epoch 20: 1.0\n",
      "Epoch 21: 1.0\n",
      "Epoch 22: 1.0\n",
      "Epoch 23: 1.0\n",
      "Epoch 24: 1.0\n",
      "Epoch 25: 1.0\n",
      "Epoch 26: 1.0\n",
      "Epoch 27: 1.0\n",
      "Epoch 28: 1.0\n",
      "Epoch 29: 1.0\n",
      "Epoch 30: 1.0\n",
      "Epoch 31: 1.0\n",
      "Epoch 32: 1.0\n",
      "Epoch 33: 1.0\n",
      "Epoch 34: 1.0\n",
      "Epoch 35: 1.0\n",
      "Epoch 36: 1.0\n",
      "Epoch 37: 1.0\n",
      "Epoch 38: 1.0\n",
      "Epoch 39: 1.0\n",
      "Epoch 40: 1.0\n",
      "Epoch 41: 1.0\n",
      "Epoch 42: 1.0\n",
      "Epoch 43: 1.0\n",
      "Epoch 44: 1.0\n",
      "Epoch 45: 1.0\n",
      "Epoch 46: 1.0\n",
      "Epoch 47: 1.0\n",
      "Epoch 48: 1.0\n",
      "Epoch 49: 1.0\n",
      "Epoch 50: 1.0\n",
      "Epoch 51: 1.0\n",
      "Epoch 52: 1.0\n",
      "Epoch 53: 1.0\n",
      "Epoch 54: 1.0\n",
      "Epoch 55: 1.0\n",
      "Epoch 56: 1.0\n",
      "Epoch 57: 1.0\n",
      "Epoch 58: 1.0\n",
      "Epoch 59: 1.0\n",
      "Epoch 60: 1.0\n",
      "Epoch 61: 1.0\n",
      "Epoch 62: 1.0\n",
      "Epoch 63: 1.0\n",
      "Epoch 64: 1.0\n",
      "Epoch 65: 1.0\n",
      "Epoch 66: 1.0\n",
      "Epoch 67: 1.0\n",
      "Epoch 68: 1.0\n",
      "Epoch 69: 1.0\n",
      "Epoch 70: 1.0\n",
      "Epoch 71: 1.0\n",
      "Epoch 72: 1.0\n",
      "Epoch 73: 1.0\n",
      "Epoch 74: 1.0\n",
      "Epoch 75: 1.0\n",
      "Epoch 76: 1.0\n",
      "Epoch 77: 1.0\n",
      "Epoch 78: 1.0\n",
      "Epoch 79: 1.0\n",
      "Epoch 80: 1.0\n",
      "Epoch 81: 1.0\n",
      "Epoch 82: 1.0\n",
      "Epoch 83: 1.0\n",
      "Epoch 84: 1.0\n",
      "Epoch 85: 1.0\n",
      "Epoch 86: 1.0\n",
      "Epoch 87: 1.0\n",
      "Epoch 88: 1.0\n",
      "Epoch 89: 1.0\n",
      "Epoch 90: 1.0\n",
      "Epoch 91: 1.0\n",
      "Epoch 92: 1.0\n",
      "Epoch 93: 1.0\n",
      "Epoch 94: 1.0\n",
      "Epoch 95: 1.0\n",
      "Epoch 96: 1.0\n",
      "Epoch 97: 1.0\n",
      "Epoch 98: 1.0\n",
      "Epoch 99: 1.0\n"
     ]
    }
   ],
   "source": [
    "with tf.Session() as sess:\n",
    "    sess.run(tf.global_variables_initializer())\n",
    "    \n",
    "    writer = tf.summary.FileWriter('./graph/03/linear_reg',sess.graph)\n",
    "    \n",
    "    for i in range(100):\n",
    "        total_loss = 0\n",
    "        for x,y in data:\n",
    "            _, l = sess.run([optimizer, loss], feed_dict={X:x,Y:y})\n",
    "            total_loss += 1\n",
    "        print('Epoch {0}: {1}'.format(i, total_loss/n_samples))\n",
    "        \n",
    "    writer.close()\n",
    "    \n",
    "    w_value, b_value = sess.run([w,b])"
   ]
  },
  {
   "cell_type": "markdown",
   "metadata": {},
   "source": [
    "### 플롯팅 "
   ]
  },
  {
   "cell_type": "code",
   "execution_count": 13,
   "metadata": {
    "collapsed": false
   },
   "outputs": [
    {
     "data": {
      "image/png": "[encoded data removed]",
      "text/plain": [
       "<matplotlib.figure.Figure at 0x7fb9a8329c50>"
      ]
     },
     "metadata": {},
     "output_type": "display_data"
    }
   ],
   "source": [
    "X, Y = data.T[0], data.T[1]\n",
    "plt.plot(X, Y, 'bo', label='Real data')\n",
    "plt.plot(X, X * w_value + b_value, 'r', label='Predicted data')\n",
    "plt.legend()\n",
    "plt.show()"
   ]
  },
  {
   "cell_type": "code",
   "execution_count": null,
   "metadata": {
    "collapsed": true
   },
   "outputs": [],
   "source": []
  }
 ],
 "metadata": {
  "kernelspec": {
   "display_name": "Python 3",
   "language": "python",
   "name": "python3"
  },
  "language_info": {
   "codemirror_mode": {
    "name": "ipython",
    "version": 3
   },
   "file_extension": ".py",
   "mimetype": "text/x-python",
   "name": "python",
   "nbconvert_exporter": "python",
   "pygments_lexer": "ipython3",
   "version": "3.4.3"
  }
 },
 "nbformat": 4,
 "nbformat_minor": 0
}
